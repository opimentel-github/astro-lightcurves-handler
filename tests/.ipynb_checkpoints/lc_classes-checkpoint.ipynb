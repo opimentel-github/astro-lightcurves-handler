{
 "cells": [
  {
   "cell_type": "code",
   "execution_count": 1,
   "metadata": {},
   "outputs": [],
   "source": [
    "import sys\n",
    "sys.path.append('../') # or just install the module\n",
    "sys.path.append('../../flaming-choripan') # or just install the module"
   ]
  },
  {
   "cell_type": "code",
   "execution_count": 2,
   "metadata": {},
   "outputs": [],
   "source": [
    "import numpy as np\n",
    "\n",
    "days_r = np.array([  5.0656829,   8.0996528,  13.061713 ,  22.0009838,  26.0215625,\n",
    "        28.9802662,  39.0096875,  44.9532755,  49.0039121,  60.9926389,\n",
    "        66.975706 ,  69.9134838,  72.9389468,  75.9405671,  80.8963426,\n",
    "        86.8977894,  92.9196528,  97.9758681, 100.8779861, 103.9104283,\n",
    "       108.9143982, 111.8984259, 114.9420139, 122.8789236, 148.8506482])\n",
    "obs_r = np.array([0.09369501, 0.12422294, 0.17632272, 0.21543042, 0.26436687,\n",
    "       0.28861551, 0.33934311, 0.34162441, 0.3635561 , 0.35546735,\n",
    "       0.32118441, 0.29078965, 0.26576802, 0.23397065, 0.20949038,\n",
    "       0.18816455, 0.16633398, 0.17401421, 0.16234064, 0.14769087,\n",
    "       0.15370163, 0.14437344, 0.14757494, 0.15973237, 0.06021994])\n",
    "obse_r = np.array([0.01520713, 0.01580251, 0.01577605, 0.03399303, 0.01714344,\n",
    "       0.01226538, 0.02021915, 0.0196518 , 0.01763097, 0.01974572,\n",
    "       0.02135111, 0.01782387, 0.01586518, 0.01186198, 0.01960087,\n",
    "       0.01389926, 0.01094066, 0.0110298 , 0.01334426, 0.01444601,\n",
    "       0.01355199, 0.0122024 , 0.01094715, 0.01098468, 0.00795538])\n",
    "days_g = np.array([  0.       ,   5.041794 ,  13.1063773,  16.0641551,  18.9786921,\n",
    "        32.9421644,  39.1044097,  44.9796991,  48.936956 ,  60.9187847,\n",
    "        66.9435417,  69.9383333,  72.8977315,  75.8996991,  83.8982755,\n",
    "        86.9468634,  89.8980324,  97.8986921, 100.912581 , 114.8746065,\n",
    "       117.8932176, 122.902882 , 125.9555324])\n",
    "obs_g = np.array([0.04058823, 0.08495003, 0.15179164, 0.16671223, 0.18171548,\n",
    "       0.21404183, 0.21082352, 0.20682718, 0.19194895, 0.18450144,\n",
    "       0.14277814, 0.12811022, 0.11172354, 0.09822171, 0.07378358,\n",
    "       0.06712033, 0.06358189, 0.06440931, 0.05949815, 0.06132898,\n",
    "       0.06220779, 0.05560232, 0.05380362])\n",
    "obse_g = np.array([0.00802027, 0.00985233, 0.01225903, 0.01328017, 0.01388184,\n",
    "       0.01358495, 0.01222989, 0.01319812, 0.0132215 , 0.01339098,\n",
    "       0.010816  , 0.01117299, 0.00979144, 0.0105853 , 0.01572488,\n",
    "       0.00995968, 0.00726456, 0.00712653, 0.00626655, 0.00913009,\n",
    "       0.00674099, 0.00771989, 0.00955539])"
   ]
  },
  {
   "cell_type": "code",
   "execution_count": 3,
   "metadata": {},
   "outputs": [
    {
     "ename": "SyntaxError",
     "evalue": "invalid syntax (lc_classes.py, line 41)",
     "output_type": "error",
     "traceback": [
      "Traceback \u001b[0;36m(most recent call last)\u001b[0m:\n",
      "  File \u001b[1;32m\"/home/tesla/anaconda3/envs/lchandler/lib/python3.7/site-packages/IPython/core/interactiveshell.py\"\u001b[0m, line \u001b[1;32m3418\u001b[0m, in \u001b[1;35mrun_code\u001b[0m\n    exec(code_obj, self.user_global_ns, self.user_ns)\n",
      "\u001b[0;36m  File \u001b[0;32m\"<ipython-input-3-41303831dc34>\"\u001b[0;36m, line \u001b[0;32m4\u001b[0;36m, in \u001b[0;35m<module>\u001b[0;36m\u001b[0m\n\u001b[0;31m    from lchandler.lc_classes import LCO\u001b[0m\n",
      "\u001b[0;36m  File \u001b[0;32m\"../lchandler/lc_classes.py\"\u001b[0;36m, line \u001b[0;32m41\u001b[0m\n\u001b[0;31m    def reset()\u001b[0m\n\u001b[0m               ^\u001b[0m\n\u001b[0;31mSyntaxError\u001b[0m\u001b[0;31m:\u001b[0m invalid syntax\n"
     ]
    }
   ],
   "source": [
    "%load_ext autoreload\n",
    "%autoreload 2\n",
    "import numpy as np\n",
    "from lchandler.lc_classes import LCO\n",
    "from lchandler.plots.lc import plot_lightcurve\n",
    "import matplotlib.pyplot as plt\n",
    "\n",
    "band_names = ['g', 'r']\n",
    "lcobj = LCO()\n",
    "lcobj.add_b('g', days_g+7, obs_g, obse_g)\n",
    "lcobj.add_b('r', days_r+7, obs_r, obse_r)\n",
    "\n",
    "fig, ax = plt.subplots(1, 1, figsize=(10,3))\n",
    "for kb,b in enumerate(band_names):\n",
    "    plot_lightcurve(ax, lcobj, b, b)\n",
    "    \n",
    "day_offset = lcobj.reset_day_offset_serial()\n",
    "fig, ax = plt.subplots(1, 1, figsize=(10,3))\n",
    "for kb,b in enumerate(band_names):\n",
    "    plot_lightcurve(ax, lcobj, b, b)\n",
    "\n",
    "fig, ax = plt.subplots(1, 1, figsize=(10,3))\n",
    "new_lcobj = lcobj.r+lcobj.g\n",
    "plot_lightcurve(ax, new_lcobj, None, 'k')\n",
    "plt.show()\n",
    "\n",
    "print(lcobj.get_days_serial_duration())"
   ]
  },
  {
   "cell_type": "code",
   "execution_count": null,
   "metadata": {
    "scrolled": false
   },
   "outputs": [],
   "source": [
    "%load_ext autoreload\n",
    "%autoreload 2\n",
    "import numpy as np\n",
    "from lchandler.lc_classes import LCO\n",
    "from flamingchoripan.cuteplots.animations import PlotAnimation\n",
    "\n",
    "n = 500\n",
    "### SYNTHETIC\n",
    "OBSE_STD_SCALE = 1/2.5 # 2.5 # 2 2.5 3 5 10 important\n",
    "CPDS_P = 10./100. # curve points down sampling probability\n",
    "HOURS_NOISE_AMP = 5. # 5\n",
    "\n",
    "animation = PlotAnimation(.1*n, init_offset=0, end_offset=0)\n",
    "for _ in range(0,n):\n",
    "    _lcobj = lcobj.copy()\n",
    "    for b in _lcobj.bands:\n",
    "        lcobjb = _lcobj.get_b(b)\n",
    "        lcobjb.add_day_noise_uniform(HOURS_NOISE_AMP) # add day noise\n",
    "        lcobjb.add_obs_noise_gaussian(0., OBSE_STD_SCALE) # add obs noise\n",
    "        #lcobjb.apply_downsampling_window(self.cpdsw_rooted, self.cpdsw) # curve points downsampling\n",
    "        lcobjb.apply_downsampling(CPDS_P) # curve points downsampling\n",
    "\n",
    "    fig, axs = plt.subplots(2, 1, figsize=(10,6))\n",
    "    ax = axs[0]\n",
    "    for kb,b in enumerate(band_names):\n",
    "        plot_lightcurve(ax, lcobj, b, b)\n",
    "    ax.set_xlim([0, 150])\n",
    "    ax.grid(alpha=.5)\n",
    "    ax.set_title(f'')\n",
    "    \n",
    "    ax = axs[1]\n",
    "    for kb,b in enumerate(band_names):\n",
    "        plot_lightcurve(ax, _lcobj, b, b)\n",
    "    ax.set_xlim([0, 150])\n",
    "    ax.grid(alpha=.5)\n",
    "    animation.append(fig)\n",
    "    #plt.show()\n",
    "    \n",
    "animation.save('../temp/animation.gif')"
   ]
  },
  {
   "cell_type": "code",
   "execution_count": null,
   "metadata": {},
   "outputs": [],
   "source": [
    "lcobj2.get_onehot_serial().T"
   ]
  },
  {
   "cell_type": "code",
   "execution_count": null,
   "metadata": {},
   "outputs": [],
   "source": [
    "%load_ext autoreload\n",
    "%autoreload 2\n",
    "import numpy as np\n",
    "from lchandler.lc_classes import LCO\n",
    "\n",
    "lcobj2 = lcobj.copy()\n",
    "lcobj2.r.set_diff('days')\n",
    "print(lcobj2.r.d_days)\n",
    "lcobj2.r.apply_downsampling(0.5) # apply_downsampling\n",
    "print(lcobj2.r.d_days)\n",
    "\n",
    "fig, axs = plt.subplots(2, 1, figsize=(14,6))\n",
    "ax = axs[0]\n",
    "for kb,b in enumerate(band_names):\n",
    "    plot_lightcurve(ax, lcobj, b, b)\n",
    "ax = axs[1]\n",
    "for kb,b in enumerate(band_names):\n",
    "    plot_lightcurve(ax, lcobj2, b, b)\n",
    "plt.show()"
   ]
  },
  {
   "cell_type": "code",
   "execution_count": null,
   "metadata": {},
   "outputs": [],
   "source": [
    "%load_ext autoreload\n",
    "%autoreload 2\n",
    "import numpy as np\n",
    "from lchandler.lc_classes import LCO\n",
    "\n",
    "lcobj2 = lcobj.copy()\n",
    "lcobj2.r.clip_attrs_given_max_duration(60)\n",
    "fig, axs = plt.subplots(2, 1, figsize=(14,6))\n",
    "ax = axs[0]\n",
    "for kb,b in enumerate(band_names):\n",
    "    plot_lightcurve(ax, lcobj, b)\n",
    "ax = axs[1]\n",
    "for kb,b in enumerate(band_names):\n",
    "    plot_lightcurve(ax, lcobj2, b)\n",
    "plt.show()"
   ]
  },
  {
   "cell_type": "markdown",
   "metadata": {},
   "source": [
    "# complete data augmentation"
   ]
  },
  {
   "cell_type": "code",
   "execution_count": null,
   "metadata": {},
   "outputs": [],
   "source": [
    "%load_ext autoreload\n",
    "%autoreload 2\n",
    "import numpy as np\n",
    "from lchandler.lc_classes import LCO\n",
    "\n",
    "lcobj2 = lcobj.copy()\n",
    "for b in lcobj2.bands:\n",
    "    lcobj2.get_b(b).apply_downsampling(0.1) # apply_downsampling\n",
    "    lcobj2.get_b(b).add_day_noise_uniform(5)\n",
    "    lcobj2.get_b(b).add_obs_noise_gaussian(0, 1)\n",
    "\n",
    "fig, axs = plt.subplots(1, 1, figsize=(14,5))\n",
    "ax = axs\n",
    "for kb,b in enumerate(band_names):\n",
    "    plot_lightcurve(ax, lcobj, b, alpha=0.5, label=f'{b} original')\n",
    "for kb,b in enumerate(band_names):\n",
    "    plot_lightcurve(ax, lcobj2, b, label=f'{b} after data-augmentation')\n",
    "ax.legend(loc='upper right')\n",
    "ax.grid(0.5)\n",
    "plt.show()"
   ]
  }
 ],
 "metadata": {
  "kernelspec": {
   "display_name": "Python 3",
   "language": "python",
   "name": "python3"
  },
  "language_info": {
   "codemirror_mode": {
    "name": "ipython",
    "version": 3
   },
   "file_extension": ".py",
   "mimetype": "text/x-python",
   "name": "python",
   "nbconvert_exporter": "python",
   "pygments_lexer": "ipython3",
   "version": "3.7.9"
  }
 },
 "nbformat": 4,
 "nbformat_minor": 4
}
