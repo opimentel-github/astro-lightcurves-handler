{
 "cells": [
  {
   "cell_type": "code",
   "execution_count": 1,
   "metadata": {},
   "outputs": [],
   "source": [
    "import sys\n",
    "sys.path.append('../') # or just install the module\n",
    "sys.path.append('../../flaming-choripan') # or just install the module"
   ]
  },
  {
   "cell_type": "code",
   "execution_count": 2,
   "metadata": {},
   "outputs": [
    {
     "data": {
      "text/plain": [
       "['../../surveys-save/survey=alerceZTFv7.1~bands=gr~mode=onlySNe.ralcds']"
      ]
     },
     "execution_count": 2,
     "metadata": {},
     "output_type": "execute_result"
    }
   ],
   "source": [
    "from flamingchoripan.files import search_for_filedirs\n",
    "from lchandler import C_\n",
    "\n",
    "root_folder = '../../surveys-save'\n",
    "filedirs = search_for_filedirs(root_folder, fext=C_.EXT_RAW_LIGHTCURVE)\n",
    "filedirs"
   ]
  },
  {
   "cell_type": "code",
   "execution_count": 3,
   "metadata": {},
   "outputs": [
    {
     "name": "stdout",
     "output_type": "stream",
     "text": [
      "LCDataset:\n",
      "[outliers - samples 10]\n",
      "(.) obs_samples=541 - min_len=14 - max_dur=408.0[days] - dur(p50)=133.8[days] - cadence(p50)=1.0[days]\n",
      "(g) obs_samples=260 - min_len=6 - max_dur=408.0[days] - dur(p50)=133.8[days] - cadence(p50)=3.0[days]\n",
      "(r) obs_samples=281 - min_len=8 - max_dur=376.0[days] - dur(p50)=128.7[days] - cadence(p50)=3.0[days]\n",
      "   |█▌      | SLSN - 2/10 (20.00%)\n",
      "   |▊       | SNIa - 1/10 (10.00%)\n",
      "   |█▌      | SNIbc - 2/10 (20.00%)\n",
      "   |████    | allSNII - 5/10 (50.00%)\n",
      "────────────────────────────────────────────────────────────────────────────────────────────────────\n",
      "[faint - samples 48]\n",
      "(.) obs_samples=1,107 - min_len=7 - max_dur=298.1[days] - dur(p50)=40.5[days] - cadence(p50)=1.0[days]\n",
      "(g) obs_samples=450 - min_len=0 - max_dur=221.7[days] - dur(p50)=28.0[days] - cadence(p50)=2.9[days]\n",
      "(r) obs_samples=657 - min_len=4 - max_dur=298.1[days] - dur(p50)=38.9[days] - cadence(p50)=2.9[days]\n",
      "   |█▏      | SLSN - 7/48 (14.58%)\n",
      "   |███▊    | SNIa - 23/48 (47.92%)\n",
      "   |▌       | SNIbc - 3/48 (6.25%)\n",
      "   |██▌     | allSNII - 15/48 (31.25%)\n",
      "────────────────────────────────────────────────────────────────────────────────────────────────────\n",
      "[raw - samples 1,940]\n",
      "(.) obs_samples=53,326 - min_len=6 - max_dur=538.8[days] - dur(p50)=53.0[days] - cadence(p50)=1.0[days]\n",
      "(g) obs_samples=23,566 - min_len=0 - max_dur=538.7[days] - dur(p50)=39.0[days] - cadence(p50)=3.0[days]\n",
      "(r) obs_samples=29,760 - min_len=0 - max_dur=538.7[days] - dur(p50)=51.0[days] - cadence(p50)=3.0[days]\n",
      "   |        | SLSN - 22/1,940 (1.13%)\n",
      "   |██████  | SNIa - 1,477/1,940 (76.13%)\n",
      "   |▍       | SNIbc - 95/1,940 (4.90%)\n",
      "   |█▍      | allSNII - 346/1,940 (17.84%)\n",
      "────────────────────────────────────────────────────────────────────────────────────────────────────\n",
      "\n"
     ]
    }
   ],
   "source": [
    "%load_ext autoreload\n",
    "%autoreload 2\n",
    "import numpy as np\n",
    "from flamingchoripan.files import load_pickle, save_pickle, get_dict_from_filedir\n",
    "\n",
    "filedir = '../../surveys-save/survey=alerceZTFv7.1~bands=gr~mode=onlySNe.ralcds'\n",
    "filedict = get_dict_from_filedir(filedir)\n",
    "root_folder = filedict['_rootdir']\n",
    "cfilename = filedict['_cfilename']\n",
    "survey = filedict['survey']\n",
    "lcdataset = load_pickle(filedir)\n",
    "print(lcdataset)"
   ]
  },
  {
   "cell_type": "code",
   "execution_count": 14,
   "metadata": {},
   "outputs": [
    {
     "name": "stdout",
     "output_type": "stream",
     "text": [
      "The autoreload extension is already loaded. To reload it, use:\n",
      "  %reload_ext autoreload\n"
     ]
    }
   ],
   "source": [
    "%load_ext autoreload\n",
    "%autoreload 2\n",
    "lcdataset['raw'].reset_boostrap() # fixme"
   ]
  },
  {
   "cell_type": "code",
   "execution_count": 48,
   "metadata": {},
   "outputs": [
    {
     "name": "stdout",
     "output_type": "stream",
     "text": [
      "The autoreload extension is already loaded. To reload it, use:\n",
      "  %reload_ext autoreload\n",
      "{'ZTF18ablwafp': 44, 'ZTF18abshezu': 0, 'ZTF18abxbmqh': 0, 'ZTF18acnnevs': 28, 'ZTF18acqyvag': 0, 'ZTF18acxgqxq': 0, 'ZTF18acyxnyw': 0, 'ZTF19aaeopgw': 67, 'ZTF19aafljiq': 0, 'ZTF19aalbrgu': 0, 'ZTF19aamrais': 0, 'ZTF19aanesgt': 0, 'ZTF19aarphwc': 0, 'ZTF19aaserwb': 0, 'ZTF19abaeyqw': 0, 'ZTF19abclykm': 0, 'ZTF19abnacvf': 0, 'ZTF19abpbopt': 0, 'ZTF19acfwynw': 31, 'ZTF19adcfsoc': 0, 'ZTF20aahbfmf': 0, 'ZTF20aayprqz': 0}\n"
     ]
    },
    {
     "data": {
      "text/plain": [
       "['ZTF19acfwynw',\n",
       " 'ZTF18ablwafp',\n",
       " 'ZTF18ablwafp',\n",
       " 'ZTF18acnnevs',\n",
       " 'ZTF19aaeopgw']"
      ]
     },
     "execution_count": 48,
     "metadata": {},
     "output_type": "execute_result"
    }
   ],
   "source": [
    "%load_ext autoreload\n",
    "%autoreload 2\n",
    "lcdataset['raw'].get_boostrap_samples('SLSN', 5)\n"
   ]
  }
 ],
 "metadata": {
  "kernelspec": {
   "display_name": "Python 3",
   "language": "python",
   "name": "python3"
  },
  "language_info": {
   "codemirror_mode": {
    "name": "ipython",
    "version": 3
   },
   "file_extension": ".py",
   "mimetype": "text/x-python",
   "name": "python",
   "nbconvert_exporter": "python",
   "pygments_lexer": "ipython3",
   "version": "3.7.9"
  }
 },
 "nbformat": 4,
 "nbformat_minor": 4
}
