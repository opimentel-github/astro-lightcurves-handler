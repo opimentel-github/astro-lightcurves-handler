{
 "cells": [
  {
   "cell_type": "code",
   "execution_count": 1,
   "metadata": {},
   "outputs": [],
   "source": [
    "import sys\n",
    "sys.path.append('..')"
   ]
  },
  {
   "cell_type": "code",
   "execution_count": 2,
   "metadata": {},
   "outputs": [
    {
     "name": "stdout",
     "output_type": "stream",
     "text": [
      "Found filenames: (save)\n",
      "(0)\t save/FSNe/survey-FSNe_bands-gr_classes-3_kfid-0_kfid-0.flcd\n",
      "────────────────────────────────────────────────────────────────────────────────────────────────────\n",
      "filenames after processing: \n",
      "(0)\t save/FSNe/survey-FSNe_bands-gr_classes-3_kfid-0_kfid-0.flcd\n"
     ]
    }
   ],
   "source": [
    "from flamingChoripan.myUtils.files import search_for_filenames\n",
    "from src import C_\n",
    "\n",
    "root_folder = 'save'\n",
    "filenames = search_for_filenames(root_folder, fileformat=C_.EXT_FATS_LIGHTCURVE_DIC)"
   ]
  },
  {
   "cell_type": "code",
   "execution_count": 3,
   "metadata": {},
   "outputs": [
    {
     "name": "stdout",
     "output_type": "stream",
     "text": [
      "dict_keys(['name', 'band_names', 'class_names', 'obs_is_flux', 'extra_info', 'train_samples', 'vali_samples', 'sigma_n', 'sigma_m', 'train_data', 'vali_data', 'fats_expected_features', 'fats_process_time', 'fats_featureList', 'fats_excludeList', 'fats_nan_value', 'fats_total_nans'])\n"
     ]
    }
   ],
   "source": [
    "%load_ext autoreload\n",
    "%autoreload 2\n",
    "import numpy as np\n",
    "from flamingChoripan.myUtils.files import load_pickle, save_pickle\n",
    "from src import C_\n",
    "\n",
    "def load_lcdic(filename):\n",
    "    assert filename.split('.')[-1]==C_.EXT_FATS_LIGHTCURVE_DIC\n",
    "    return load_pickle(filename)\n",
    "\n",
    "filedir = 'save/FSNe/survey-FSNe_bands-gr_classes-3_kfid-0_kfid-0.flcd'\n",
    "root_folder = '/'.join(filedir.split('/')[:-1])\n",
    "filename = '.'.join(filedir.split('/')[-1].split('.')[:-1])\n",
    "lcdic = load_lcdic(filedir)\n",
    "print(lcdic.keys())"
   ]
  },
  {
   "cell_type": "code",
   "execution_count": 4,
   "metadata": {},
   "outputs": [
    {
     "name": "stdout",
     "output_type": "stream",
     "text": [
      "fats_expected_features: 58\n",
      "fats_process_time: 2226.4600485130213\n",
      "fats_featureList: ['Amplitude', 'AndersonDarling', 'Autocor_length', 'Beyond1Std', 'CAR_sigma', 'CAR_mean', 'CAR_tau', 'Con', 'Eta_e', 'FluxPercentileRatioMid20', 'FluxPercentileRatioMid35', 'FluxPercentileRatioMid50', 'FluxPercentileRatioMid65', 'FluxPercentileRatioMid80', 'Gskew', 'LinearTrend', 'MaxSlope', 'Mean', 'Meanvariance', 'MedianAbsDev', 'MedianBRP', 'PairSlopeTrend', 'PercentAmplitude', 'PercentDifferenceFluxPercentile', 'PeriodLS', 'Period_fit', 'Psi_CS', 'Psi_eta', 'Q31', 'Rcs', 'Skew', 'SmallKurtosis', 'Std', 'StetsonK', 'Freq1_harmonics_amplitude_0', 'Freq1_harmonics_rel_phase_0', 'Freq1_harmonics_amplitude_1', 'Freq1_harmonics_rel_phase_1', 'Freq1_harmonics_amplitude_2', 'Freq1_harmonics_rel_phase_2', 'Freq1_harmonics_amplitude_3', 'Freq1_harmonics_rel_phase_3', 'Freq2_harmonics_amplitude_0', 'Freq2_harmonics_rel_phase_0', 'Freq2_harmonics_amplitude_1', 'Freq2_harmonics_rel_phase_1', 'Freq2_harmonics_amplitude_2', 'Freq2_harmonics_rel_phase_2', 'Freq2_harmonics_amplitude_3', 'Freq2_harmonics_rel_phase_3', 'Freq3_harmonics_amplitude_0', 'Freq3_harmonics_rel_phase_0', 'Freq3_harmonics_amplitude_1', 'Freq3_harmonics_rel_phase_1', 'Freq3_harmonics_amplitude_2', 'Freq3_harmonics_rel_phase_2', 'Freq3_harmonics_amplitude_3', 'Freq3_harmonics_rel_phase_3']\n",
      "fats_excludeList: ['Color', 'Eta_color', 'Q31_color', 'StetsonJ', 'StetsonL', 'StetsonK_AC', 'SlottedA_length']\n",
      "fats_nan_value: -999\n",
      "fats_total_nans: 0\n"
     ]
    }
   ],
   "source": [
    "for key in lcdic.keys():\n",
    "    if 'fats' in key:\n",
    "        print('{}: {}'.format(key, lcdic[key]))"
   ]
  },
  {
   "cell_type": "code",
   "execution_count": 8,
   "metadata": {},
   "outputs": [
    {
     "name": "stdout",
     "output_type": "stream",
     "text": [
      "set_name: train_data - percent: 100.0 %\n",
      "set_name: vali_data - percent: 100.0 %\n"
     ]
    }
   ],
   "source": [
    "has_fats = {\n",
    "    'train_data':[],\n",
    "    'vali_data':[],\n",
    "}\n",
    "for set_name in ['train_data', 'vali_data']:\n",
    "    data_dic = lcdic[set_name]\n",
    "    for key in data_dic.keys():\n",
    "        obj = data_dic[key]\n",
    "        #print('{} - {}'.format(key, obj.keys()))\n",
    "        if 'xf_mb' in obj.keys():\n",
    "            has_fats[set_name].append(key)\n",
    "            \n",
    "for set_name in ['train_data', 'vali_data']:\n",
    "    percent = len(has_fats[set_name])/len(lcdic[set_name].keys())\n",
    "    print('set_name: {} - percent: {} %'.format(set_name, percent*100))\n",
    "    #print(has_fats)"
   ]
  },
  {
   "cell_type": "code",
   "execution_count": 9,
   "metadata": {},
   "outputs": [
    {
     "name": "stdout",
     "output_type": "stream",
     "text": [
      "dict_keys(['x_mb', 'tm_mb', 'y', 'iday', 'z', 'xf_mb'])\n",
      "[(73, 3), (66, 3)]\n",
      "[(73, 58), (66, 58)]\n",
      "[-9.99000000e+02 -9.99000000e+02 -9.99000000e+02  2.10262067e-03\n",
      " -1.21083611e-03  4.57639061e-03  7.82078411e-03  5.64047974e-03\n",
      "  5.78791741e-03  1.05569083e-02  6.42856676e-03  6.58672256e-03\n",
      "  1.11963386e-02  1.43935215e-02  1.76303852e-02  2.96584684e-02\n",
      "  3.98963913e-02  5.90575337e-02  7.82695562e-02  9.76167470e-02\n",
      "  1.16617352e-01  1.39097512e-01  1.65766358e-01  1.98028982e-01\n",
      "  2.31931761e-01  2.63247371e-01  2.94501096e-01  3.22876751e-01\n",
      "  3.46358091e-01  3.64815265e-01  3.82626325e-01  3.95828247e-01\n",
      "  4.04553026e-01  4.08447087e-01  4.11143035e-01  4.04946566e-01\n",
      "  3.99379641e-01  3.89561385e-01  3.80815446e-01  3.71122122e-01\n",
      "  3.62258464e-01  3.54230702e-01  3.46452147e-01  3.39587569e-01\n",
      "  3.31310213e-01  3.23885471e-01  3.17329913e-01  3.12203377e-01\n",
      "  3.06365252e-01  3.00401717e-01  2.94427544e-01  2.88712889e-01\n",
      "  2.82458335e-01  2.76967257e-01  2.72906601e-01  2.67757118e-01\n",
      "  2.62853533e-01  2.59166270e-01  2.54428685e-01  2.50077188e-01\n",
      "  2.46467829e-01  2.42863983e-01  2.39248946e-01  2.35668510e-01\n",
      "  2.33285233e-01  2.29743883e-01  2.25776181e-01  2.22733513e-01\n",
      "  2.19943687e-01  2.16970786e-01  2.13521004e-01  2.10835010e-01\n",
      "  2.07915381e-01]\n"
     ]
    }
   ],
   "source": [
    "data_dic = lcdic['train_data']\n",
    "key = list(data_dic.keys())[0]\n",
    "key = 821\n",
    "f_id = 17\n",
    "obj = data_dic[key]\n",
    "print(obj.keys())\n",
    "print([obj['x_mb'][b].shape for b in lcdic['band_names']])\n",
    "print([obj['xf_mb'][b].shape for b in lcdic['band_names']])\n",
    "print(obj['xf_mb']['g'][:,f_id])"
   ]
  }
 ],
 "metadata": {
  "kernelspec": {
   "display_name": "Python 3",
   "language": "python",
   "name": "python3"
  },
  "language_info": {
   "codemirror_mode": {
    "name": "ipython",
    "version": 3
   },
   "file_extension": ".py",
   "mimetype": "text/x-python",
   "name": "python",
   "nbconvert_exporter": "python",
   "pygments_lexer": "ipython3",
   "version": "3.7.3"
  }
 },
 "nbformat": 4,
 "nbformat_minor": 4
}
