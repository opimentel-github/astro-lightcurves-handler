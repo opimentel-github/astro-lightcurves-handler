{
 "cells": [
  {
   "cell_type": "code",
   "execution_count": 1,
   "metadata": {},
   "outputs": [],
   "source": [
    "import sys\n",
    "sys.path.append('../') # or just install the module\n",
    "sys.path.append('../../flaming-choripan') # or just install the module"
   ]
  },
  {
   "cell_type": "code",
   "execution_count": 2,
   "metadata": {},
   "outputs": [
    {
     "name": "stdout",
     "output_type": "stream",
     "text": [
      "────────────────────────────────────────────────────────────────────────────────────────────────────\n",
      "found filedirs: (../../surveys-save)\n",
      "(0) - ../../surveys-save/alerceZTFv7.1/survey=alerceZTFv7.1°bands=gr°mode=onlySNe.ralcds - 2.365[mbs]\n",
      "────────────────────────────────────────────────────────────────────────────────────────────────────\n",
      "filedirs after searching with filters: (../../surveys-save)\n",
      "(0) - ../../surveys-save/alerceZTFv7.1/survey=alerceZTFv7.1°bands=gr°mode=onlySNe.ralcds - 2.365[mbs]\n",
      "────────────────────────────────────────────────────────────────────────────────────────────────────\n"
     ]
    }
   ],
   "source": [
    "from flamingchoripan.files import search_for_filedirs\n",
    "from lchandler import C_\n",
    "\n",
    "root_folder = '../../surveys-save'\n",
    "filedirs = search_for_filedirs(root_folder, fext=C_.EXT_RAW_LIGHTCURVE)"
   ]
  },
  {
   "cell_type": "code",
   "execution_count": 4,
   "metadata": {},
   "outputs": [
    {
     "name": "stdout",
     "output_type": "stream",
     "text": [
      "The autoreload extension is already loaded. To reload it, use:\n",
      "  %reload_ext autoreload\n",
      "\u001b[34m> loading: ../../surveys-save/alerceZTFv7.1/survey=alerceZTFv7.1°bands=gr°mode=onlySNe.ralcds\u001b[0m\n",
      "dict_keys(['data', 'survey', 'description', 'band_names', 'class_names', 'obs_is_flux'])\n",
      "dict_keys(['days', 'obs', 'obse', 'y', 'synthetic'])\n",
      "LCDataset:\n",
      "[outliers - samples 10]\n",
      "(*) obs_samples: 541 - min_len: 14 - max_dur: 408.0[days] - dur(p50): 133.8[days] - cadence(p50): 1.0[days]\n",
      "(g) obs_samples: 260 - min_len: 6 - max_dur: 408.0[days] - dur(p50): 133.7[days] - cadence(p50): 3.0[days]\n",
      "(r) obs_samples: 281 - min_len: 8 - max_dur: 376.0[days] - dur(p50): 128.7[days] - cadence(p50): 3.0[days]\n",
      "   |█▌      | SLSN - 2/10 (20.00%)\n",
      "   |▊       | SNIa - 1/10 (10.00%)\n",
      "   |█▌      | SNIbc - 2/10 (20.00%)\n",
      "   |████    | allSNII - 5/10 (50.00%)\n",
      "────────────────────────────────────────────────────────────────────────────────────────────────────\n",
      "[faint - samples 44]\n",
      "(*) obs_samples: 990 - min_len: 7 - max_dur: 298.1[days] - dur(p50): 40.0[days] - cadence(p50): 1.0[days]\n",
      "(g) obs_samples: 409 - min_len: 0 - max_dur: 221.7[days] - dur(p50): 26.9[days] - cadence(p50): 2.9[days]\n",
      "(r) obs_samples: 581 - min_len: 4 - max_dur: 298.1[days] - dur(p50): 37.5[days] - cadence(p50): 3.0[days]\n",
      "   |█▎      | SLSN - 7/44 (15.91%)\n",
      "   |███▊    | SNIa - 21/44 (47.73%)\n",
      "   |▌       | SNIbc - 3/44 (6.82%)\n",
      "   |██▎     | allSNII - 13/44 (29.55%)\n",
      "────────────────────────────────────────────────────────────────────────────────────────────────────\n",
      "[raw - samples 1,944]\n",
      "(*) obs_samples: 53,443 - min_len: 6 - max_dur: 538.8[days] - dur(p50): 53.0[days] - cadence(p50): 1.0[days]\n",
      "(g) obs_samples: 23,607 - min_len: 0 - max_dur: 538.8[days] - dur(p50): 39.0[days] - cadence(p50): 3.0[days]\n",
      "(r) obs_samples: 29,836 - min_len: 0 - max_dur: 538.8[days] - dur(p50): 51.0[days] - cadence(p50): 3.0[days]\n",
      "   |        | SLSN - 22/1,944 (1.13%)\n",
      "   |██████  | SNIa - 1,479/1,944 (76.08%)\n",
      "   |▍       | SNIbc - 95/1,944 (4.89%)\n",
      "   |█▍      | allSNII - 348/1,944 (17.90%)\n",
      "────────────────────────────────────────────────────────────────────────────────────────────────────\n",
      "\n"
     ]
    }
   ],
   "source": [
    "%load_ext autoreload\n",
    "%autoreload 2\n",
    "import numpy as np\n",
    "from flamingchoripan.progress_bars import ProgressBar\n",
    "from flamingchoripan.files import load_pickle, save_pickle\n",
    "from flamingchoripan.files import get_dict_from_filedir\n",
    "from lchandler import C_\n",
    "\n",
    "def load_lcdataset(filedir):\n",
    "    assert filedir.split('.')[-1]==C_.EXT_RAW_LIGHTCURVE\n",
    "    return load_pickle(filedir)\n",
    "\n",
    "filedir = '../../surveys-save/alerceZTFv7.1/survey=alerceZTFv7.1°bands=gr°mode=onlySNe.ralcds'\n",
    "\n",
    "filedict = get_dict_from_filedir(filedir)\n",
    "root_folder = filedict['*rootdir*']\n",
    "cfilename = filedict['*cfilename*']\n",
    "survey = filedict['survey']\n",
    "lcdataset = load_lcdataset(filedir)\n",
    "print(lcdataset['raw'].keys())\n",
    "print(lcdataset['raw'].get_random_lcobj(False).keys())\n",
    "print(lcdataset)"
   ]
  },
  {
   "cell_type": "code",
   "execution_count": 5,
   "metadata": {
    "scrolled": false
   },
   "outputs": [
    {
     "name": "stdout",
     "output_type": "stream",
     "text": [
      "\u001b[33m> creating dir: ../save/alerceZTFv7.1/survey=alerceZTFv7.1°bands=gr°mode=onlySNe/outliers/SLSN\u001b[0m\n",
      "\u001b[33m> creating dir: ../save/alerceZTFv7.1/survey=alerceZTFv7.1°bands=gr°mode=onlySNe/outliers/allSNII\u001b[0m\n",
      "\u001b[33m> creating dir: ../save/alerceZTFv7.1/survey=alerceZTFv7.1°bands=gr°mode=onlySNe/outliers/SNIbc\u001b[0m\n",
      "\u001b[33m> creating dir: ../save/alerceZTFv7.1/survey=alerceZTFv7.1°bands=gr°mode=onlySNe/outliers/SNIa\u001b[0m\n",
      "\u001b[33m> creating dir: ../save/alerceZTFv7.1/survey=alerceZTFv7.1°bands=gr°mode=onlySNe/faint/SNIa\u001b[0m\n",
      "\u001b[33m> creating dir: ../save/alerceZTFv7.1/survey=alerceZTFv7.1°bands=gr°mode=onlySNe/faint/allSNII\u001b[0m\n",
      "\u001b[33m> creating dir: ../save/alerceZTFv7.1/survey=alerceZTFv7.1°bands=gr°mode=onlySNe/faint/SLSN\u001b[0m\n",
      "\u001b[33m> creating dir: ../save/alerceZTFv7.1/survey=alerceZTFv7.1°bands=gr°mode=onlySNe/faint/SNIbc\u001b[0m\n",
      "\u001b[33m> creating dir: ../save/alerceZTFv7.1/survey=alerceZTFv7.1°bands=gr°mode=onlySNe/raw/SNIa\u001b[0m\n",
      "\u001b[33m> creating dir: ../save/alerceZTFv7.1/survey=alerceZTFv7.1°bands=gr°mode=onlySNe/raw/SNIbc\u001b[0m\n",
      "\u001b[33m> creating dir: ../save/alerceZTFv7.1/survey=alerceZTFv7.1°bands=gr°mode=onlySNe/raw/allSNII\u001b[0m\n",
      "\u001b[33m> creating dir: ../save/alerceZTFv7.1/survey=alerceZTFv7.1°bands=gr°mode=onlySNe/raw/SLSN\u001b[0m\n"
     ]
    }
   ],
   "source": [
    "import flamingchoripan.lists as lists\n",
    "from flamingchoripan.cuteplots.utils import save_fig\n",
    "import matplotlib.pyplot as plt\n",
    "from lchandler.plots.lc import plot_lightcurve\n",
    "\n",
    "lcset_names = lcdataset.get_lcset_names()\n",
    "for lcset_name in lcset_names:\n",
    "    lcset = lcdataset[lcset_name]\n",
    "    for lcobj_name in lcset.get_lcobj_names():\n",
    "        fig, ax = plt.subplots(1,1, figsize=(12,5))\n",
    "        lcobj = lcset[lcobj_name]\n",
    "        c = lcset.class_names[lcobj.y]\n",
    "        for kb,b in enumerate(lcset.band_names):\n",
    "            plot_lightcurve(ax, lcobj, b, label=f'{b} observations')\n",
    "        snr = lcobj.get_snr()\n",
    "        ax.set_title(f'survey: {lcset.survey} - obj: {lcobj_name} - class: {lcset.class_names[lcobj.y]} - snr: {snr:.2f}')\n",
    "        ax.set_xlabel('days')\n",
    "        ax.set_ylabel('obs[flux]')\n",
    "        ax.grid(alpha=0.5)\n",
    "        ax.legend()\n",
    "        save_filedir = f'../save/{survey}/{cfilename}/{lcset_name}/{c}/{lcobj_name}.png'\n",
    "        save_fig(fig, save_filedir)"
   ]
  }
 ],
 "metadata": {
  "kernelspec": {
   "display_name": "Python 3",
   "language": "python",
   "name": "python3"
  },
  "language_info": {
   "codemirror_mode": {
    "name": "ipython",
    "version": 3
   },
   "file_extension": ".py",
   "mimetype": "text/x-python",
   "name": "python",
   "nbconvert_exporter": "python",
   "pygments_lexer": "ipython3",
   "version": "3.7.9"
  }
 },
 "nbformat": 4,
 "nbformat_minor": 4
}
