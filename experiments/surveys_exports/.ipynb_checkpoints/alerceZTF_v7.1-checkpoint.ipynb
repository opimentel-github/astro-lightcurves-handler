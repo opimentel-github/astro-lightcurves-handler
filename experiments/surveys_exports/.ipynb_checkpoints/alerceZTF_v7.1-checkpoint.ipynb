{
 "cells": [
  {
   "cell_type": "markdown",
   "metadata": {},
   "source": [
    "# ALeRCE classes\n",
    "\n",
    "https://github.com/ZwickyTransientFacility/ztf-avro-alert\n",
    "\n",
    "1. **AGN:** Active Galactic Nuclei\n",
    "1. **Blazar:** Blazar\n",
    "1. **CV/Nova:** Cataclysmic Variable Star/Nova\n",
    "1. **Ceph:** Cepheid Variable Star\n",
    "1. **DSCT:** Delta Scuti Star\n",
    "1. **EA:** Eclipsing Algol\n",
    "1. **EB/EW:** Eclipsing Binaries/Eclipsing W Ursa Majoris\n",
    "1. **LPV:** Long Period Variable\n",
    "1. **Periodic-Other:** Periodic-Other\n",
    "1. **QSO:** Quasi-Stellar Object\n",
    "1. **RRL:** RRLyrae Variable Star\n",
    "1. **RSCVn:** RS Canum Venaticorum\n",
    "1. **SLSN:** Super Luminous Supernova\n",
    "1. **SNII:** Supernova II\n",
    "1. **SNIIb:** Supernova IIb\n",
    "1. **SNIIn:** Supernova IIn\n",
    "1. **SNIa:** Supernova Ia\n",
    "1. **SNIbc:** Supernova Ibc\n",
    "1. **TDE:** Tidal disruption event (to remove)\n",
    "1. **YSO:** Young Stellar Object\n",
    "1. **ZZ:** ZZ Ceti Stars (to remove)"
   ]
  },
  {
   "cell_type": "code",
   "execution_count": 11,
   "metadata": {},
   "outputs": [],
   "source": [
    "import sys\n",
    "sys.path.append('../../') # or just install the module\n",
    "sys.path.append('../../../flaming-choripan') # or just install the module"
   ]
  },
  {
   "cell_type": "code",
   "execution_count": 19,
   "metadata": {
    "scrolled": true
   },
   "outputs": [
    {
     "name": "stdout",
     "output_type": "stream",
     "text": [
      "The autoreload extension is already loaded. To reload it, use:\n",
      "  %reload_ext autoreload\n"
     ]
    },
    {
     "name": "stderr",
     "output_type": "stream",
     "text": [
      "../../lchandler/survey_export/alerce_utils.py:80: UserWarning: only use uses_corr=False with SNe objects\n",
      "  warnings.warn('only use uses_corr=False with SNe objects')\n"
     ]
    },
    {
     "name": "stdout",
     "output_type": "stream",
     "text": [
      "detections_df - columns: ['fid', 'mjd', 'magpsf', 'sigmapsf'] - id: oid\n",
      "labels - columns: ['classALeRCE', 'ra', 'dec', 'period', 'source', 'id_source', 'class_source', 'separation_arcsec'] - id: oid\n",
      "classes: {'SNIbc', 'YSO', 'AGN', 'SNII', 'SLSN', 'QSO', 'SNIa', 'DSCT', 'SNIIb', 'CV/Nova', 'RRL', 'NLQSO', 'EB/EW', 'Ceph', 'RSCVn', 'Periodic-Other', 'LPV', 'SNIIn', 'ZZ', 'NLAGN', 'EA', 'TDE', 'Blazar'}\n"
     ]
    }
   ],
   "source": [
    "%load_ext autoreload\n",
    "%autoreload 2\n",
    "from lchandler.survey_export.alerce_utils import process_df_labels, process_df_detections, keep_only_valid_objs\n",
    "import numpy as np\n",
    "import pandas as pd\n",
    "\n",
    "load_rootdir = '../../../surveys-data'\n",
    "survey_name = 'alerceZTFv7.1'\n",
    "uses_corr = 0 # uses_corr=False only can be used with SNe objects\n",
    "df_index_names = {\n",
    "    'oid':'oid', # object id\n",
    "    'oid_det':'objectId', # object id\n",
    "    'label':'classALeRCE', # object class name\n",
    "    'ra':'ra',\n",
    "    'dec':'dec',\n",
    "    'band':'fid', # band\n",
    "    'obs_day':'mjd', # days\n",
    "    'obs':'magpsf_corr' if uses_corr else 'magpsf', # observations\n",
    "    'obs_error':'sigmapsf_corr' if uses_corr else 'sigmapsf', # observation errors\n",
    "}\n",
    "detections_cols = ['objectId', 'fid', 'mjd', df_index_names['obs'], df_index_names['obs_error']]\n",
    "\n",
    "### load files and processing\n",
    "detections_df = pd.read_parquet(f'{load_rootdir}/{survey_name}/detections_with_xmatch')\n",
    "detections_df, det_objs = process_df_detections(detections_df, df_index_names['oid_det'], df_index_names['oid'], detections_cols, uses_corr=uses_corr)\n",
    "print(f'detections_df - columns: {list(detections_df.columns)} - id: {detections_df.index.name}')\n",
    "\n",
    "labels_df = pd.read_csv(f'{load_rootdir}/{survey_name}/dfcrossmatches_prioritized_v7.0.1.csv')\n",
    "labels_df, label_objs = process_df_labels(labels_df, df_index_names['oid'], det_objs)\n",
    "print(f'labels - columns: {list(labels_df.columns)} - id: {labels_df.index.name}')\n",
    "\n",
    "outliers_df = pd.read_csv(f'{load_rootdir}/{survey_name}/outliers.csv')\n",
    "\n",
    "### filter\n",
    "valid_objs = list(set(det_objs) & set(label_objs))\n",
    "labels_df = keep_only_valid_objs(labels_df, valid_objs)\n",
    "detections_df = keep_only_valid_objs(detections_df, valid_objs)\n",
    "\n",
    "### print info\n",
    "classes = set(labels_df[df_index_names['label']].values)\n",
    "print('classes:', classes)"
   ]
  },
  {
   "cell_type": "code",
   "execution_count": 21,
   "metadata": {},
   "outputs": [
    {
     "name": "stdout",
     "output_type": "stream",
     "text": [
      "<class 'pandas.core.frame.DataFrame'>\n",
      "Index: 6210462 entries, ZTF17aaaemke to ZTF20abefeou\n",
      "Data columns (total 4 columns):\n",
      "fid         int64\n",
      "mjd         float64\n",
      "magpsf      float32\n",
      "sigmapsf    float32\n",
      "dtypes: float32(2), float64(1), int64(1)\n",
      "memory usage: 189.5+ MB\n"
     ]
    },
    {
     "data": {
      "text/html": [
       "<div>\n",
       "<style scoped>\n",
       "    .dataframe tbody tr th:only-of-type {\n",
       "        vertical-align: middle;\n",
       "    }\n",
       "\n",
       "    .dataframe tbody tr th {\n",
       "        vertical-align: top;\n",
       "    }\n",
       "\n",
       "    .dataframe thead th {\n",
       "        text-align: right;\n",
       "    }\n",
       "</style>\n",
       "<table border=\"1\" class=\"dataframe\">\n",
       "  <thead>\n",
       "    <tr style=\"text-align: right;\">\n",
       "      <th></th>\n",
       "      <th>fid</th>\n",
       "      <th>mjd</th>\n",
       "      <th>magpsf</th>\n",
       "      <th>sigmapsf</th>\n",
       "    </tr>\n",
       "    <tr>\n",
       "      <th>oid</th>\n",
       "      <th></th>\n",
       "      <th></th>\n",
       "      <th></th>\n",
       "      <th></th>\n",
       "    </tr>\n",
       "  </thead>\n",
       "  <tbody>\n",
       "    <tr>\n",
       "      <th>ZTF17aaaemke</th>\n",
       "      <td>1</td>\n",
       "      <td>58679.445093</td>\n",
       "      <td>18.297556</td>\n",
       "      <td>0.107698</td>\n",
       "    </tr>\n",
       "    <tr>\n",
       "      <th>ZTF17aaaemke</th>\n",
       "      <td>1</td>\n",
       "      <td>58667.458588</td>\n",
       "      <td>18.762489</td>\n",
       "      <td>0.176661</td>\n",
       "    </tr>\n",
       "    <tr>\n",
       "      <th>ZTF17aaaemke</th>\n",
       "      <td>1</td>\n",
       "      <td>58811.170556</td>\n",
       "      <td>19.481199</td>\n",
       "      <td>0.276603</td>\n",
       "    </tr>\n",
       "    <tr>\n",
       "      <th>ZTF17aaaemke</th>\n",
       "      <td>1</td>\n",
       "      <td>58863.108241</td>\n",
       "      <td>19.077507</td>\n",
       "      <td>0.134806</td>\n",
       "    </tr>\n",
       "    <tr>\n",
       "      <th>ZTF17aaaemke</th>\n",
       "      <td>1</td>\n",
       "      <td>58820.147292</td>\n",
       "      <td>19.210100</td>\n",
       "      <td>0.281415</td>\n",
       "    </tr>\n",
       "    <tr>\n",
       "      <th>ZTF17aaaemke</th>\n",
       "      <td>1</td>\n",
       "      <td>58673.479028</td>\n",
       "      <td>18.959806</td>\n",
       "      <td>0.165157</td>\n",
       "    </tr>\n",
       "    <tr>\n",
       "      <th>ZTF17aaaemke</th>\n",
       "      <td>1</td>\n",
       "      <td>58431.211875</td>\n",
       "      <td>18.543581</td>\n",
       "      <td>0.138088</td>\n",
       "    </tr>\n",
       "    <tr>\n",
       "      <th>ZTF17aaaemke</th>\n",
       "      <td>2</td>\n",
       "      <td>58757.320671</td>\n",
       "      <td>18.332430</td>\n",
       "      <td>0.177623</td>\n",
       "    </tr>\n",
       "    <tr>\n",
       "      <th>ZTF17aaaemke</th>\n",
       "      <td>2</td>\n",
       "      <td>58667.463843</td>\n",
       "      <td>17.781448</td>\n",
       "      <td>0.086865</td>\n",
       "    </tr>\n",
       "    <tr>\n",
       "      <th>ZTF17aaaemke</th>\n",
       "      <td>2</td>\n",
       "      <td>58431.186701</td>\n",
       "      <td>19.169600</td>\n",
       "      <td>0.272926</td>\n",
       "    </tr>\n",
       "  </tbody>\n",
       "</table>\n",
       "</div>"
      ],
      "text/plain": [
       "              fid           mjd     magpsf  sigmapsf\n",
       "oid                                                 \n",
       "ZTF17aaaemke    1  58679.445093  18.297556  0.107698\n",
       "ZTF17aaaemke    1  58667.458588  18.762489  0.176661\n",
       "ZTF17aaaemke    1  58811.170556  19.481199  0.276603\n",
       "ZTF17aaaemke    1  58863.108241  19.077507  0.134806\n",
       "ZTF17aaaemke    1  58820.147292  19.210100  0.281415\n",
       "ZTF17aaaemke    1  58673.479028  18.959806  0.165157\n",
       "ZTF17aaaemke    1  58431.211875  18.543581  0.138088\n",
       "ZTF17aaaemke    2  58757.320671  18.332430  0.177623\n",
       "ZTF17aaaemke    2  58667.463843  17.781448  0.086865\n",
       "ZTF17aaaemke    2  58431.186701  19.169600  0.272926"
      ]
     },
     "execution_count": 21,
     "metadata": {},
     "output_type": "execute_result"
    }
   ],
   "source": [
    "detections_df.info()\n",
    "detections_df[:10]"
   ]
  },
  {
   "cell_type": "code",
   "execution_count": 22,
   "metadata": {},
   "outputs": [
    {
     "name": "stdout",
     "output_type": "stream",
     "text": [
      "<class 'pandas.core.frame.DataFrame'>\n",
      "Index: 122825 entries, ZTF19aapcxhy to ZTF18abgqxlw\n",
      "Data columns (total 8 columns):\n",
      "classALeRCE          122825 non-null object\n",
      "ra                   122825 non-null float64\n",
      "dec                  122825 non-null float64\n",
      "period               77759 non-null object\n",
      "source               122825 non-null object\n",
      "id_source            122825 non-null object\n",
      "class_source         122825 non-null object\n",
      "separation_arcsec    122825 non-null float64\n",
      "dtypes: float64(3), object(5)\n",
      "memory usage: 8.4+ MB\n"
     ]
    },
    {
     "data": {
      "text/html": [
       "<div>\n",
       "<style scoped>\n",
       "    .dataframe tbody tr th:only-of-type {\n",
       "        vertical-align: middle;\n",
       "    }\n",
       "\n",
       "    .dataframe tbody tr th {\n",
       "        vertical-align: top;\n",
       "    }\n",
       "\n",
       "    .dataframe thead th {\n",
       "        text-align: right;\n",
       "    }\n",
       "</style>\n",
       "<table border=\"1\" class=\"dataframe\">\n",
       "  <thead>\n",
       "    <tr style=\"text-align: right;\">\n",
       "      <th></th>\n",
       "      <th>classALeRCE</th>\n",
       "      <th>ra</th>\n",
       "      <th>dec</th>\n",
       "      <th>period</th>\n",
       "      <th>source</th>\n",
       "      <th>id_source</th>\n",
       "      <th>class_source</th>\n",
       "      <th>separation_arcsec</th>\n",
       "    </tr>\n",
       "    <tr>\n",
       "      <th>oid</th>\n",
       "      <th></th>\n",
       "      <th></th>\n",
       "      <th></th>\n",
       "      <th></th>\n",
       "      <th></th>\n",
       "      <th></th>\n",
       "      <th></th>\n",
       "      <th></th>\n",
       "    </tr>\n",
       "  </thead>\n",
       "  <tbody>\n",
       "    <tr>\n",
       "      <th>ZTF19aapcxhy</th>\n",
       "      <td>AGN</td>\n",
       "      <td>154.202129</td>\n",
       "      <td>18.723076</td>\n",
       "      <td>NaN</td>\n",
       "      <td>Oh2015</td>\n",
       "      <td>5.877420127343739e+17</td>\n",
       "      <td>AGN_galaxy_dominated</td>\n",
       "      <td>0.227455</td>\n",
       "    </tr>\n",
       "    <tr>\n",
       "      <th>ZTF18abtyspw</th>\n",
       "      <td>AGN</td>\n",
       "      <td>25.660298</td>\n",
       "      <td>0.087434</td>\n",
       "      <td>NaN</td>\n",
       "      <td>Oh2015</td>\n",
       "      <td>5.880155092805878e+17</td>\n",
       "      <td>AGN_galaxy_dominated</td>\n",
       "      <td>0.141792</td>\n",
       "    </tr>\n",
       "    <tr>\n",
       "      <th>ZTF18abwtbad</th>\n",
       "      <td>AGN</td>\n",
       "      <td>51.846346</td>\n",
       "      <td>0.739559</td>\n",
       "      <td>NaN</td>\n",
       "      <td>Oh2015</td>\n",
       "      <td>5.877315136939624e+17</td>\n",
       "      <td>AGN_galaxy_dominated</td>\n",
       "      <td>0.084636</td>\n",
       "    </tr>\n",
       "    <tr>\n",
       "      <th>ZTF18abtmwvo</th>\n",
       "      <td>AGN</td>\n",
       "      <td>46.074050</td>\n",
       "      <td>0.474212</td>\n",
       "      <td>NaN</td>\n",
       "      <td>Oh2015</td>\n",
       "      <td>5.880155098263717e+17</td>\n",
       "      <td>AGN_galaxy_dominated</td>\n",
       "      <td>0.471111</td>\n",
       "    </tr>\n",
       "    <tr>\n",
       "      <th>ZTF18acvgdfy</th>\n",
       "      <td>AGN</td>\n",
       "      <td>134.407409</td>\n",
       "      <td>5.472596</td>\n",
       "      <td>NaN</td>\n",
       "      <td>Oh2015</td>\n",
       "      <td>5.877327033915148e+17</td>\n",
       "      <td>AGN_galaxy_dominated</td>\n",
       "      <td>0.087190</td>\n",
       "    </tr>\n",
       "    <tr>\n",
       "      <th>ZTF18aadyxlg</th>\n",
       "      <td>AGN</td>\n",
       "      <td>125.577004</td>\n",
       "      <td>33.091120</td>\n",
       "      <td>NaN</td>\n",
       "      <td>Oh2015</td>\n",
       "      <td>5.880133827239608e+17</td>\n",
       "      <td>AGN_galaxy_dominated</td>\n",
       "      <td>0.073570</td>\n",
       "    </tr>\n",
       "    <tr>\n",
       "      <th>ZTF19aapuscr</th>\n",
       "      <td>AGN</td>\n",
       "      <td>199.102327</td>\n",
       "      <td>-2.090396</td>\n",
       "      <td>NaN</td>\n",
       "      <td>Oh2015</td>\n",
       "      <td>5.87724649802236e+17</td>\n",
       "      <td>AGN_galaxy_dominated</td>\n",
       "      <td>0.038667</td>\n",
       "    </tr>\n",
       "    <tr>\n",
       "      <th>ZTF19aanxuxz</th>\n",
       "      <td>AGN</td>\n",
       "      <td>212.636953</td>\n",
       "      <td>-2.822530</td>\n",
       "      <td>NaN</td>\n",
       "      <td>Oh2015</td>\n",
       "      <td>5.877297769066006e+17</td>\n",
       "      <td>AGN_galaxy_dominated</td>\n",
       "      <td>0.181073</td>\n",
       "    </tr>\n",
       "    <tr>\n",
       "      <th>ZTF19aaaejth</th>\n",
       "      <td>AGN</td>\n",
       "      <td>141.748427</td>\n",
       "      <td>4.036104</td>\n",
       "      <td>NaN</td>\n",
       "      <td>Oh2015</td>\n",
       "      <td>5.880103596064113e+17</td>\n",
       "      <td>AGN_galaxy_dominated</td>\n",
       "      <td>0.097429</td>\n",
       "    </tr>\n",
       "    <tr>\n",
       "      <th>ZTF18aajhvcx</th>\n",
       "      <td>AGN</td>\n",
       "      <td>161.654945</td>\n",
       "      <td>22.039367</td>\n",
       "      <td>NaN</td>\n",
       "      <td>Oh2015</td>\n",
       "      <td>5.877418151765608e+17</td>\n",
       "      <td>AGN_galaxy_dominated</td>\n",
       "      <td>0.479793</td>\n",
       "    </tr>\n",
       "  </tbody>\n",
       "</table>\n",
       "</div>"
      ],
      "text/plain": [
       "             classALeRCE          ra        dec period  source  \\\n",
       "oid                                                              \n",
       "ZTF19aapcxhy         AGN  154.202129  18.723076    NaN  Oh2015   \n",
       "ZTF18abtyspw         AGN   25.660298   0.087434    NaN  Oh2015   \n",
       "ZTF18abwtbad         AGN   51.846346   0.739559    NaN  Oh2015   \n",
       "ZTF18abtmwvo         AGN   46.074050   0.474212    NaN  Oh2015   \n",
       "ZTF18acvgdfy         AGN  134.407409   5.472596    NaN  Oh2015   \n",
       "ZTF18aadyxlg         AGN  125.577004  33.091120    NaN  Oh2015   \n",
       "ZTF19aapuscr         AGN  199.102327  -2.090396    NaN  Oh2015   \n",
       "ZTF19aanxuxz         AGN  212.636953  -2.822530    NaN  Oh2015   \n",
       "ZTF19aaaejth         AGN  141.748427   4.036104    NaN  Oh2015   \n",
       "ZTF18aajhvcx         AGN  161.654945  22.039367    NaN  Oh2015   \n",
       "\n",
       "                          id_source          class_source  separation_arcsec  \n",
       "oid                                                                           \n",
       "ZTF19aapcxhy  5.877420127343739e+17  AGN_galaxy_dominated           0.227455  \n",
       "ZTF18abtyspw  5.880155092805878e+17  AGN_galaxy_dominated           0.141792  \n",
       "ZTF18abwtbad  5.877315136939624e+17  AGN_galaxy_dominated           0.084636  \n",
       "ZTF18abtmwvo  5.880155098263717e+17  AGN_galaxy_dominated           0.471111  \n",
       "ZTF18acvgdfy  5.877327033915148e+17  AGN_galaxy_dominated           0.087190  \n",
       "ZTF18aadyxlg  5.880133827239608e+17  AGN_galaxy_dominated           0.073570  \n",
       "ZTF19aapuscr   5.87724649802236e+17  AGN_galaxy_dominated           0.038667  \n",
       "ZTF19aanxuxz  5.877297769066006e+17  AGN_galaxy_dominated           0.181073  \n",
       "ZTF19aaaejth  5.880103596064113e+17  AGN_galaxy_dominated           0.097429  \n",
       "ZTF18aajhvcx  5.877418151765608e+17  AGN_galaxy_dominated           0.479793  "
      ]
     },
     "execution_count": 22,
     "metadata": {},
     "output_type": "execute_result"
    }
   ],
   "source": [
    "labels_df.info()\n",
    "labels_df[:10]"
   ]
  },
  {
   "cell_type": "code",
   "execution_count": 24,
   "metadata": {
    "scrolled": false
   },
   "outputs": [
    {
     "name": "stdout",
     "output_type": "stream",
     "text": [
      "The autoreload extension is already loaded. To reload it, use:\n",
      "  %reload_ext autoreload\n"
     ]
    },
    {
     "data": {
      "image/png": "[encoded data removed]",
      "text/plain": [
       "<Figure size 480x813.88 with 1 Axes>"
      ]
     },
     "metadata": {
      "needs_background": "light"
     },
     "output_type": "display_data"
    }
   ],
   "source": [
    "%matplotlib inline\n",
    "%load_ext autoreload\n",
    "%autoreload 2\n",
    "from lchandler.survey_export.dictionary_creator import LightCurveDictionaryCreator\n",
    "\n",
    "band_dictionary = {\n",
    "    'g':1,\n",
    "    'r':2,\n",
    "}\n",
    "args = [survey_name, detections_df, labels_df, band_dictionary, df_index_names]\n",
    "kwargs = {\n",
    "    'dataframe_obs_uses_flux':False,\n",
    "    'zero_point':48.6,\n",
    "}\n",
    "lcDictionaryCreator = LightCurveDictionaryCreator(*args, **kwargs)\n",
    "#print(lcDictionaryCreator)\n",
    "lcDictionaryCreator.plot_class_distribution(uses_log_scale=1)"
   ]
  },
  {
   "cell_type": "code",
   "execution_count": 25,
   "metadata": {
    "scrolled": false
   },
   "outputs": [
    {
     "data": {
      "image/png": "[encoded data removed]",
      "text/plain": [
       "<Figure size 480x339.411 with 1 Axes>"
      ]
     },
     "metadata": {
      "needs_background": "light"
     },
     "output_type": "display_data"
    }
   ],
   "source": [
    "DF_SN_LIST = ['SLSN' ,'SNII', 'SNIIb', 'SNIIn', 'SNIa', 'SNIbc']\n",
    "\n",
    "#mode = 'raw'\n",
    "#mode = 'simple'\n",
    "#mode = 'transients'\n",
    "#mode = 'RRCeph'\n",
    "mode = 'onlySNe'\n",
    "#mode = 'onlySNIa'\n",
    "\n",
    "if mode=='simple':\n",
    "    invalid_classes = []\n",
    "    query_classes = []\n",
    "    to_merge_classes_dic = {'SN':DF_SN_LIST,}\n",
    "    \n",
    "elif mode=='onlySNe':\n",
    "    kwargs = {\n",
    "        'invalid_classes':[],\n",
    "        'query_classes':DF_SN_LIST,\n",
    "        'merge_classes_dict':{\n",
    "            'allSNII':['SNII', 'SNIIb', 'SNIIn'],\n",
    "        },\n",
    "    }\n",
    "    \n",
    "elif mode=='onlySNIa':\n",
    "    kwargs = {\n",
    "        'invalid_classes':[],\n",
    "        'query_classes':DF_SN_LIST,\n",
    "        'merge_classes_dict':{\n",
    "            'nonSNIa':['SLSN' ,'SNII', 'SNIIb', 'SNIIn', 'SNIbc'],\n",
    "        },\n",
    "    }\n",
    "\n",
    "elif mode=='RRCeph':\n",
    "    invalid_classes = []\n",
    "    query_classes = ['RRL','Ceph']\n",
    "    to_merge_classes_dic = {}\n",
    "\n",
    "lcDictionaryCreator.update_labels_df(**kwargs)\n",
    "lcDictionaryCreator.plot_class_distribution(uses_log_scale=1)"
   ]
  },
  {
   "cell_type": "code",
   "execution_count": 62,
   "metadata": {
    "scrolled": false
   },
   "outputs": [
    {
     "name": "stdout",
     "output_type": "stream",
     "text": [
      "The autoreload extension is already loaded. To reload it, use:\n",
      "  %reload_ext autoreload\n",
      "band_names: ['g', 'r']\n",
      "cleaning the DataFrame - samples: 6,210,462\n",
      "remove_invalid_bands > samples: 6,209,963\n",
      "remove_invalid_classes > samples: 65,179\n",
      "remove_negative_obs > samples: 65,179\n",
      "save_filedir: ../../../surveys-save/alerceZTFv7.1/survey-alerceZTFv7.1_bands-gr_mode-onlySNe.ralcds\n",
      "easy_label_dict: {'SLSN': 0, 'SNIa': 1, 'SNIbc': 2, 'allSNII': 3}\n",
      "100%|██████████| 2049/2049 [00:08, 238.73it/s, obj: ZTF19aatvmbo - y: 1 - c: SNIa - lengths_bdict: {'g': 8, 'r': 10} - correct_samples (any-band>=5): 2,047]      \n",
      "\u001b[32m> saving: ../../../surveys-save/alerceZTFv7.1/survey-alerceZTFv7.1_bands-gr_mode-onlySNe.ralcds\u001b[0m\n"
     ]
    }
   ],
   "source": [
    "%load_ext autoreload\n",
    "%autoreload 2\n",
    "\n",
    "description = 'ZTF Alerce'\n",
    "save_folder = f'../../../surveys-save/{survey_name}'\n",
    "kwargs = {\n",
    "    'band_names':list(band_dictionary.keys()),\n",
    "    #'to_export_bands':['g','r'],\n",
    "    'filename_extra_parameters':{\n",
    "        'mode':mode,\n",
    "    },\n",
    "    'outliers_df':outliers_df,\n",
    "}\n",
    "raw_lcdataset = lcDictionaryCreator.export_dictionary(description, save_folder, **kwargs)"
   ]
  },
  {
   "cell_type": "code",
   "execution_count": 63,
   "metadata": {},
   "outputs": [
    {
     "name": "stdout",
     "output_type": "stream",
     "text": [
      "[28.71±39.53, 12.60±11.55, 11.73±9.24, 18.04±25.27]\n",
      "[33.55±43.87, 15.98±15.14, 15.29±9.19, 25.41±30.89]\n",
      "[34.50±9.50, ─, 14.00±10.42, 67.00±.00]\n",
      "[32.00±8.00, ─, 19.67±12.68, 62.00±.00]\n",
      "LCDataset:\n",
      "[raw - samples 2,041]\n",
      "(*) obs_samples: 64,811 - min_len: 6 - max_dur: 538.8[days] - dur(p50): 52.9[days] - cadence(p50): 1.0[days]\n",
      "(g) obs_samples: 28,173 - min_len: 0 - max_dur: 538.8[days] - dur(p50): 38.8[days] - cadence(p50): 3.0[days]\n",
      "(r) obs_samples: 36,638 - min_len: 0 - max_dur: 538.8[days] - dur(p50): 50.8[days] - cadence(p50): 3.0[days]\n",
      "   |        | SLSN - 31/2,041 (1.52%)\n",
      "   |██████  | SNIa - 1,534/2,041 (75.16%)\n",
      "   |▍       | SNIbc - 100/2,041 (4.90%)\n",
      "   |█▍      | allSNII - 376/2,041 (18.42%)\n",
      "────────────────────────────────────────────────────────────────────────────────────────────────────\n",
      "[outliers - samples 6]\n",
      "(*) obs_samples: 363 - min_len: 10 - max_dur: 412.9[days] - dur(p50): 221.7[days] - cadence(p50): 1.0[days]\n",
      "(g) obs_samples: 178 - min_len: 3 - max_dur: 408.0[days] - dur(p50): 220.2[days] - cadence(p50): 3.0[days]\n",
      "(r) obs_samples: 185 - min_len: 7 - max_dur: 376.0[days] - dur(p50): 165.2[days] - cadence(p50): 3.0[days]\n",
      "   |██▋     | SLSN - 2/6 (33.33%)\n",
      "   |        | SNIa - 0/6 (0.00%)\n",
      "   |████    | SNIbc - 3/6 (50.00%)\n",
      "   |█▎      | allSNII - 1/6 (16.67%)\n",
      "────────────────────────────────────────────────────────────────────────────────────────────────────\n",
      "\n"
     ]
    }
   ],
   "source": [
    "print(raw_lcdataset)"
   ]
  },
  {
   "cell_type": "code",
   "execution_count": 66,
   "metadata": {},
   "outputs": [
    {
     "data": {
      "image/png": "[encoded data removed]",
      "text/plain": [
       "<Figure size 864x360 with 1 Axes>"
      ]
     },
     "metadata": {
      "needs_background": "light"
     },
     "output_type": "display_data"
    }
   ],
   "source": [
    "import flamingchoripan.lists as lists\n",
    "import matplotlib.pyplot as plt\n",
    "from lchandler.plots.lc import plot_lightcurve\n",
    "\n",
    "set_name = 'raw'\n",
    "#set_name = 'outliers'\n",
    "lcset = raw_lcdataset[set_name]\n",
    "lcobj, lcobj_name = lcset.get_random_lcobj()\n",
    "#lcobj_name = 'ZTF18acdvvgx'; lcobj = lcset[lcobj_name]\n",
    "fig, ax = plt.subplots(1,1, figsize=(12,5))\n",
    "for kb,b in enumerate(lcset.band_names):\n",
    "    plot_lightcurve(ax, lcobj, b)\n",
    "ax.set_title(f'survey: {lcset.survey} - obj: {lcobj_name} - class: {lcset.class_names[lcobj.y]}')\n",
    "ax.set_xlabel('days')\n",
    "ax.set_ylabel('obs[flux]')\n",
    "ax.grid(alpha=0.5)"
   ]
  }
 ],
 "metadata": {
  "kernelspec": {
   "display_name": "Python 3",
   "language": "python",
   "name": "python3"
  },
  "language_info": {
   "codemirror_mode": {
    "name": "ipython",
    "version": 3
   },
   "file_extension": ".py",
   "mimetype": "text/x-python",
   "name": "python",
   "nbconvert_exporter": "python",
   "pygments_lexer": "ipython3",
   "version": "3.7.9"
  }
 },
 "nbformat": 4,
 "nbformat_minor": 2
}
