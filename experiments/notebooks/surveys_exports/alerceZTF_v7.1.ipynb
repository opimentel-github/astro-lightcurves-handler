{
 "cells": [
  {
   "cell_type": "markdown",
   "metadata": {},
   "source": [
    "# ALeRCE classes\n",
    "\n",
    "https://github.com/ZwickyTransientFacility/ztf-avro-alert\n",
    "\n",
    "1. **AGN:** Active Galactic Nuclei\n",
    "1. **Blazar:** Blazar\n",
    "1. **CV/Nova:** Cataclysmic Variable Star/Nova\n",
    "1. **Ceph:** Cepheid Variable Star\n",
    "1. **DSCT:** Delta Scuti Star\n",
    "1. **EA:** Eclipsing Algol\n",
    "1. **EB/EW:** Eclipsing Binaries/Eclipsing W Ursa Majoris\n",
    "1. **LPV:** Long Period Variable\n",
    "1. **Periodic-Other:** Periodic-Other\n",
    "1. **QSO:** Quasi-Stellar Object\n",
    "1. **RRL:** RRLyrae Variable Star\n",
    "1. **RSCVn:** RS Canum Venaticorum\n",
    "1. **SLSN:** Super Luminous Supernova\n",
    "1. **SNII:** Supernova II\n",
    "1. **SNIIb:** Supernova IIb\n",
    "1. **SNIIn:** Supernova IIn\n",
    "1. **SNIa:** Supernova Ia\n",
    "1. **SNIbc:** Supernova Ibc\n",
    "1. **TDE:** Tidal disruption event (to remove)\n",
    "1. **YSO:** Young Stellar Object\n",
    "1. **ZZ:** ZZ Ceti Stars (to remove)"
   ]
  },
  {
   "cell_type": "code",
   "execution_count": 1,
   "metadata": {},
   "outputs": [],
   "source": [
    "import sys\n",
    "sys.path.append('../../../')\n",
    "sys.path.append('../../../../flaming-choripan')"
   ]
  },
  {
   "cell_type": "code",
   "execution_count": null,
   "metadata": {
    "scrolled": true
   },
   "outputs": [],
   "source": [
    "%load_ext autoreload\n",
    "%autoreload 2\n",
    "from lchandler.survey_export.alerce_utils import process_df_labels, process_df_detections, keep_only_valid_objs\n",
    "import numpy as np\n",
    "import pandas as pd\n",
    "\n",
    "load_rootdir = '/home/opimentel/tesis/surveys_data'\n",
    "survey_name = 'alerceZTFv7.1'\n",
    "uses_corr = 1 # uses_corr=False only can be used with SNe objects\n",
    "df_index_names = {\n",
    "    'oid':'oid', # object id\n",
    "    'oid_det':'objectId', # object id\n",
    "    'label':'classALeRCE', # object class name\n",
    "    'ra':'ra',\n",
    "    'dec':'dec',\n",
    "    'band':'fid', # band\n",
    "    'obs_day':'mjd', # days\n",
    "    'obs':'magpsf_corr' if uses_corr else 'magpsf', # observations\n",
    "    'obs_error':'sigmapsf_corr' if uses_corr else 'sigmapsf', # observation errors\n",
    "}\n",
    "detections_cols = ['objectId', 'fid', 'mjd', df_index_names['obs'], df_index_names['obs_error']]\n",
    "\n",
    "### load files and processing\n",
    "detections_df = pd.read_parquet(f'{load_rootdir}/{survey_name}/detections_with_xmatch')\n",
    "detections_df, det_objs = process_df_detections(detections_df, df_index_names['oid_det'], df_index_names['oid'], detections_cols, uses_corr=uses_corr)\n",
    "print(f'detections_df - columns: {list(detections_df.columns)} - id: {detections_df.index.name}')\n",
    "\n",
    "labels_df = pd.read_csv(f'{load_rootdir}/{survey_name}/dfcrossmatches_prioritized_v7.0.1.csv')\n",
    "labels_df, label_objs = process_df_labels(labels_df, df_index_names['oid'], det_objs)\n",
    "print(f'labels - columns: {list(labels_df.columns)} - id: {labels_df.index.name}')\n",
    "\n",
    "### filter\n",
    "valid_objs = list(set(det_objs) & set(label_objs))\n",
    "labels_df = keep_only_valid_objs(labels_df, valid_objs)\n",
    "detections_df = keep_only_valid_objs(detections_df, valid_objs)\n",
    "\n",
    "### print info\n",
    "classes = set(labels_df[df_index_names['label']].values)\n",
    "print('classes:', classes)"
   ]
  },
  {
   "cell_type": "code",
   "execution_count": null,
   "metadata": {},
   "outputs": [],
   "source": [
    "detections_df.info()\n",
    "detections_df[:10]"
   ]
  },
  {
   "cell_type": "code",
   "execution_count": null,
   "metadata": {},
   "outputs": [],
   "source": [
    "labels_df.info()\n",
    "labels_df[:10]"
   ]
  },
  {
   "cell_type": "code",
   "execution_count": null,
   "metadata": {
    "scrolled": false
   },
   "outputs": [],
   "source": [
    "%matplotlib inline\n",
    "%load_ext autoreload\n",
    "%autoreload 2\n",
    "from lchandler.survey_export.dictionary_creator import LightCurveDictionaryCreator\n",
    "\n",
    "band_dictionary = {\n",
    "    'g':1,\n",
    "    'r':2,\n",
    "}\n",
    "args = [survey_name, detections_df, labels_df, band_dictionary, df_index_names]\n",
    "kwargs = {\n",
    "    'dataframe_obs_uses_flux':False,\n",
    "    'zero_point':48.6,\n",
    "}\n",
    "lcDictionaryCreator = LightCurveDictionaryCreator(*args, **kwargs)\n",
    "print(lcDictionaryCreator)\n",
    "#lcDictionaryCreator.plot_class_distribution(figsize=(13,6), uses_log_scale=True)"
   ]
  },
  {
   "cell_type": "code",
   "execution_count": null,
   "metadata": {
    "scrolled": false
   },
   "outputs": [],
   "source": [
    "DF_INVALID_CLASSES = []\n",
    "DF_SN_LIST = ['SLSN' ,'SNII', 'SNIIb', 'SNIIn', 'SNIa', 'SNIbc']\n",
    "\n",
    "#mode = 'raw'\n",
    "#mode = 'simple'\n",
    "#mode = 'transients'\n",
    "#mode = 'RRCeph'\n",
    "mode = 'onlySNe'\n",
    "#mode = 'onlySNIa'\n",
    "\n",
    "if mode=='simple':\n",
    "    invalid_classes = DF_INVALID_CLASSES\n",
    "    query_classes = []\n",
    "    to_merge_classes_dic = {'SN':DF_SN_LIST,}\n",
    "    \n",
    "elif mode=='onlySNe':\n",
    "    kwargs = {\n",
    "        'invalid_classes':[],\n",
    "        'query_classes':DF_SN_LIST,\n",
    "        'merge_classes_dict':{\n",
    "            'merSNII':['SNII', 'SNIIb', 'SNIIn'],\n",
    "        },\n",
    "    }\n",
    "    \n",
    "elif mode=='onlySNIa':\n",
    "    kwargs = {\n",
    "        'invalid_classes':[],\n",
    "        'query_classes':DF_SN_LIST,\n",
    "        'merge_classes_dict':{\n",
    "            'nonSNIa':['SLSN' ,'SNII', 'SNIIb', 'SNIIn', 'SNIbc'],\n",
    "        },\n",
    "    }\n",
    "\n",
    "elif mode=='RRCeph':\n",
    "    invalid_classes = DF_INVALID_CLASSES\n",
    "    query_classes = ['RRL','Ceph']\n",
    "    to_merge_classes_dic = {}\n",
    "\n",
    "lcDictionaryCreator.update_labels_df(**kwargs)\n",
    "lcDictionaryCreator.plot_class_distribution(figsize=(5,4), uses_log_scale=True)"
   ]
  },
  {
   "cell_type": "code",
   "execution_count": null,
   "metadata": {
    "scrolled": false
   },
   "outputs": [],
   "source": [
    "%load_ext autoreload\n",
    "%autoreload 2\n",
    "\n",
    "description = 'ZTF Alerce'\n",
    "save_folder = f'/home/opimentel/tesis/astro-lightcurves-handler/save/{survey_name}'\n",
    "filename_extra_parameters = {\n",
    "    'mode':mode,\n",
    "}\n",
    "kwargs = {\n",
    "    'band_names':list(band_dictionary.keys()),\n",
    "    #'to_export_bands':['g','r'],\n",
    "    'filename_extra_parameters':filename_extra_parameters,\n",
    "}\n",
    "raw_lcdataset = lcDictionaryCreator.export_dictionary(description, save_folder, **kwargs)"
   ]
  },
  {
   "cell_type": "code",
   "execution_count": null,
   "metadata": {},
   "outputs": [],
   "source": [
    "print(raw_lcdataset)"
   ]
  },
  {
   "cell_type": "code",
   "execution_count": null,
   "metadata": {},
   "outputs": [],
   "source": [
    "import flamingchoripan.lists as lists\n",
    "import matplotlib.pyplot as plt\n",
    "from lchandler.plots.lc import plot_lightcurve\n",
    "\n",
    "lcset = raw_lcdataset['raw']\n",
    "lcobj, lcobj_name = lcset.get_random_lcobj()\n",
    "#lcobj_name = 'ZTF18acdvvgx'; lcobj = lcset[lcobj_name]\n",
    "fig, ax = plt.subplots(1,1, figsize=(12,5))\n",
    "for kb,b in enumerate(lcset.band_names):\n",
    "    plot_lightcurve(ax, lcobj, b)\n",
    "ax.set_title(f'survey: {lcset.survey} - lcobj_name: {lcobj_name} - class: {lcset.class_names[lcobj.y]}')\n",
    "ax.set_xlabel('days')\n",
    "ax.set_ylabel('flux')\n",
    "ax.grid(alpha=0.5)"
   ]
  }
 ],
 "metadata": {
  "kernelspec": {
   "display_name": "Python 3",
   "language": "python",
   "name": "python3"
  },
  "language_info": {
   "codemirror_mode": {
    "name": "ipython",
    "version": 3
   },
   "file_extension": ".py",
   "mimetype": "text/x-python",
   "name": "python",
   "nbconvert_exporter": "python",
   "pygments_lexer": "ipython3",
   "version": "3.7.9"
  }
 },
 "nbformat": 4,
 "nbformat_minor": 2
}
