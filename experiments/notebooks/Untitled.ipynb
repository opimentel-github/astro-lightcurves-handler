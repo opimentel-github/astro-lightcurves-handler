{
 "cells": [
  {
   "cell_type": "code",
   "execution_count": 4,
   "metadata": {},
   "outputs": [],
   "source": [
    "import sys\n",
    "sys.path.append('../../')\n",
    "sys.path.append('../../../flaming-choripan')"
   ]
  },
  {
   "cell_type": "code",
   "execution_count": 90,
   "metadata": {},
   "outputs": [
    {
     "name": "stdout",
     "output_type": "stream",
     "text": [
      "The autoreload extension is already loaded. To reload it, use:\n",
      "  %reload_ext autoreload\n"
     ]
    }
   ],
   "source": [
    "%load_ext autoreload\n",
    "%autoreload 2\n",
    "from flamingchoripan.files import load_pickle, get_filedirs\n",
    "from flamingchoripan.datascience.statistics import XError\n",
    "import numpy as np\n",
    "\n",
    "class Rank():\n",
    "    def __init__(self, name, print_n):\n",
    "        self.name = name\n",
    "        self.print_n = print_n\n",
    "        self.names = []\n",
    "        self.values = []\n",
    "        \n",
    "    def add(self, name, value):\n",
    "        self.names.append(name)\n",
    "        self.values.append(value)\n",
    "        \n",
    "    def calcule_rank(self):\n",
    "        self.idxs = np.argsort(self.values)[::-1].tolist()\n",
    "        \n",
    "    def __len__(self):\n",
    "        return len(self.names)\n",
    "\n",
    "    def __repr__(self):\n",
    "        txt = f'{self.name}:\\n'\n",
    "        idxs = self.idxs\n",
    "        for k,idx in enumerate(idxs):\n",
    "            txt += f'({k+1}) - {self.names[idx]}: {self.values[idx]}\\n'\n",
    "            if k+1>=self.print_n:\n",
    "                break\n",
    "        return txt[:-1]\n",
    "    \n",
    "rootdir = '/home/opimentel/tesis/astro-lightcurves-handler/save/alerceZTFv5.1'\n",
    "load_rootdir = f'{rootdir}/{method}'\n",
    "filedirs = get_filedirs(load_rootdir, fext='ferror')\n",
    "band_names = ['g', 'r']\n",
    "\n",
    "results_dict = {}\n",
    "for method in ['curve_fit']:\n",
    "    results_dict[method] = {\n",
    "        'mb-fit-error':[],\n",
    "        'mb-null-fits':[],\n",
    "    }\n",
    "    for b in band_names:\n",
    "        results_dict[method].update({\n",
    "            f'{b}-fit-error':[],\n",
    "            f'{b}-null-fits':[],\n",
    "        })\n",
    "\n",
    "method = 'curve_fit'\n",
    "rank = Rank('mb-rank', 10)\n",
    "rank_bdict = {b:Rank(f'{b}-rank', 10) for b in band_names}\n",
    "\n",
    "for filedir in filedirs:\n",
    "    fdict = load_pickle(filedir, verbose=0)\n",
    "    lcobj_name = fdict['lcobj_name']\n",
    "    xes = []\n",
    "    for b in band_names:\n",
    "        ov = fdict['error_bdict'][b]\n",
    "        v = [x for x in ov if x>0]\n",
    "        if len(v)>0:\n",
    "            xe = XError(v, 0)\n",
    "            rank_bdict[b].add(lcobj_name, xe.mean)\n",
    "            xes.append(xe)\n",
    "            results_dict[method][f'{b}-fit-error'] += v\n",
    "            results_dict[method][f'{b}-null-fits'].append(1-len(v)/len(ov))\n",
    "            results_dict[method][f'mb-fit-error'] += v\n",
    "            results_dict[method][f'mb-null-fits'].append(1-len(v)/len(ov))\n",
    "    if len(xes)>0:\n",
    "        rank.add(lcobj_name, np.mean([xe.mean for xe in xes]))\n",
    "\n",
    "for method in ['curve_fit']:\n",
    "    results_dict[method]['mb-fit-error'] = XError(results_dict[method]['mb-fit-error'], 0)\n",
    "    results_dict[method]['mb-null-fits'] = np.mean(results_dict[method]['mb-null-fits'])*100\n",
    "    for b in band_names:\n",
    "        results_dict[method][f'{b}-fit-error'] = XError(results_dict[method][f'{b}-fit-error'], 0)\n",
    "        results_dict[method][f'{b}-null-fits'] = np.mean(results_dict[method][f'{b}-null-fits'])*100"
   ]
  },
  {
   "cell_type": "code",
   "execution_count": 92,
   "metadata": {},
   "outputs": [
    {
     "name": "stdout",
     "output_type": "stream",
     "text": [
      "{'mb-fit-error': XError(2.53+-15.66, dim=0), 'mb-null-fits': 0.9852372139973081, 'g-fit-error': XError(2.27+-12.09, dim=0), 'g-null-fits': 1.7850719424460433, 'r-fit-error': XError(2.75+-18.18, dim=0), 'r-null-fits': 0.2824747155499368}\n"
     ]
    }
   ],
   "source": [
    "for method in ['curve_fit']:\n",
    "    print(results_dict[method])"
   ]
  },
  {
   "cell_type": "code",
   "execution_count": 72,
   "metadata": {},
   "outputs": [
    {
     "name": "stdout",
     "output_type": "stream",
     "text": [
      "mb-rank:\n",
      "(1) - ZTF19aajxwnz: 71.73245239257812\n",
      "(2) - ZTF19aacgslb: 52.663902282714844\n",
      "(3) - ZTF18achaqmd: 43.40021514892578\n",
      "(4) - ZTF18abltdkd: 20.69577980041504\n",
      "(5) - ZTF18acrnfww: 19.955039978027344\n",
      "(6) - ZTF19aatlmbo: 16.186267852783203\n",
      "(7) - ZTF18acslpba: 15.137617111206055\n",
      "(8) - ZTF19aawqckx: 13.417102813720703\n",
      "(9) - ZTF18acvhggp: 12.587767601013184\n",
      "(10) - ZTF19abdzehg: 11.635040283203125\n",
      "g-rank:\n",
      "(1) - ZTF19aajxwnz: 71.73245239257812\n",
      "(2) - ZTF18achaqmd: 43.40021514892578\n",
      "(3) - ZTF18acrnfww: 38.3190803527832\n",
      "(4) - ZTF18acslpba: 28.983369827270508\n",
      "(5) - ZTF19aatlmbo: 28.553916931152344\n",
      "(6) - ZTF19aacgslb: 22.98574447631836\n",
      "(7) - ZTF19abdzehg: 22.46877670288086\n",
      "(8) - ZTF18abltdkd: 20.69577980041504\n",
      "(9) - ZTF18acemhyb: 18.534881591796875\n",
      "(10) - ZTF18accngee: 16.9926700592041\n",
      "r-rank:\n",
      "(1) - ZTF19aacgslb: 82.34205627441406\n",
      "(2) - ZTF19acbunmk: 20.378925323486328\n",
      "(3) - ZTF18acvhggp: 12.587767601013184\n",
      "(4) - ZTF18abcflnz: 11.076953887939453\n",
      "(5) - ZTF19aafncsv: 10.000890731811523\n",
      "(6) - ZTF19abqxhhr: 9.124099731445312\n",
      "(7) - ZTF19aavsyhq: 8.991775512695312\n",
      "(8) - ZTF19aamgttu: 7.502376079559326\n",
      "(9) - ZTF19aayfaum: 7.1912360191345215\n",
      "(10) - ZTF18adalarn: 6.820524215698242\n"
     ]
    }
   ],
   "source": [
    "rank.calcule_rank()\n",
    "print(rank)\n",
    "for b in band_names:\n",
    "    rank_bdict[b].calcule_rank()\n",
    "    print(rank_bdict[b])"
   ]
  }
 ],
 "metadata": {
  "kernelspec": {
   "display_name": "Python 3",
   "language": "python",
   "name": "python3"
  },
  "language_info": {
   "codemirror_mode": {
    "name": "ipython",
    "version": 3
   },
   "file_extension": ".py",
   "mimetype": "text/x-python",
   "name": "python",
   "nbconvert_exporter": "python",
   "pygments_lexer": "ipython3",
   "version": "3.7.9"
  }
 },
 "nbformat": 4,
 "nbformat_minor": 4
}
