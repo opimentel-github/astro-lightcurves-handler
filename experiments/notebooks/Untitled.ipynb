{
 "cells": [
  {
   "cell_type": "code",
   "execution_count": 1,
   "metadata": {},
   "outputs": [],
   "source": [
    "import sys\n",
    "sys.path.append('../../')\n",
    "sys.path.append('../../../flaming-choripan')"
   ]
  },
  {
   "cell_type": "code",
   "execution_count": 8,
   "metadata": {},
   "outputs": [
    {
     "name": "stdout",
     "output_type": "stream",
     "text": [
      "The autoreload extension is already loaded. To reload it, use:\n",
      "  %reload_ext autoreload\n"
     ]
    }
   ],
   "source": [
    "%load_ext autoreload\n",
    "%autoreload 2\n",
    "from flamingchoripan.files import load_pickle, get_filedirs\n",
    "from flamingchoripan.datascience.statistics import XError\n",
    "import numpy as np\n",
    "\n",
    "class Rank():\n",
    "    def __init__(self, name,\n",
    "        print_n=10):\n",
    "        self.name = name\n",
    "        self.print_n = print_n\n",
    "        self.names = []\n",
    "        self.values = []\n",
    "        \n",
    "    def add(self, name, value):\n",
    "        self.names.append(name)\n",
    "        self.values.append(value)\n",
    "        \n",
    "    def calcule_rank(self):\n",
    "        self.idxs = np.argsort(self.values)[::-1].tolist()\n",
    "        \n",
    "    def __len__(self):\n",
    "        return len(self.names)\n",
    "\n",
    "    def __repr__(self):\n",
    "        txt = f'{self.name}:\\n'\n",
    "        idxs = self.idxs\n",
    "        for k,idx in enumerate(idxs):\n",
    "            txt += f'({k+1}) - {self.names[idx]}: {self.values[idx]}\\n'\n",
    "            if k+1>=self.print_n:\n",
    "                break\n",
    "        return txt[:-1]\n",
    "    \n",
    "methods = ['curve_fit']\n",
    "band_names = ['g', 'r']\n",
    "rootdir = '/home/opimentel/tesis/astro-lightcurves-handler/save/alerceZTFv5.1'\n",
    "\n",
    "results_dict = {}\n",
    "rank = {}\n",
    "rank_bdict = {}\n",
    "for method in methods:\n",
    "    results_dict[method] = {\n",
    "        'mb-fit-error':[],\n",
    "        'mb-null-fits':0,\n",
    "    }\n",
    "    for b in band_names:\n",
    "        results_dict[method].update({\n",
    "            f'{b}-fit-error':[],\n",
    "            f'{b}-null-fits':0,\n",
    "        })\n",
    "\n",
    "    rank[method] = Rank('mb-rank')\n",
    "    rank_bdict[method] = {b:Rank(f'{b}-rank') for b in band_names}\n",
    "\n",
    "### loop\n",
    "for method in methods:\n",
    "    load_rootdir = f'{rootdir}/{method}'\n",
    "    filedirs = get_filedirs(load_rootdir, fext='ferror')\n",
    "    ov_bdict = {b:0 for b in band_names}\n",
    "    for filedir in filedirs:\n",
    "        fdict = load_pickle(filedir, verbose=0)\n",
    "        lcobj_name = fdict['lcobj_name']\n",
    "        xes = []\n",
    "        for b in band_names:\n",
    "            ov = fdict['error_bdict'][b]\n",
    "            ov_bdict[b] += len(ov)\n",
    "            #print(len(ov), ov)\n",
    "            v = [x for x in ov if x>0]\n",
    "            if len(v)>0:\n",
    "                xe = XError(v, 0)\n",
    "                rank_bdict[method][b].add(lcobj_name, xe.mean)\n",
    "                results_dict[method][f'{b}-fit-error'] += v\n",
    "                results_dict[method][f'{b}-null-fits'] += len(v)\n",
    "                results_dict[method][f'mb-fit-error'] += v\n",
    "                results_dict[method][f'mb-null-fits'] += len(v)\n",
    "                xes.append(xe)\n",
    "                \n",
    "        if len(xes)>0:\n",
    "            rank[method].add(lcobj_name, np.mean([xe.mean for xe in xes]))\n",
    "            \n",
    "for method in methods:\n",
    "    results_dict[method]['mb-fit-error'] = XError(results_dict[method]['mb-fit-error'], 0)\n",
    "    total_ov = sum([ov_bdict[b] for b in band_names])\n",
    "    results_dict[method]['mb-null-fits'] = (1-results_dict[method]['mb-null-fits']/total_ov)*100\n",
    "    for b in band_names:\n",
    "        results_dict[method][f'{b}-fit-error'] = XError(results_dict[method][f'{b}-fit-error'], 0)\n",
    "        results_dict[method][f'{b}-null-fits'] = (1-results_dict[method][f'{b}-null-fits']/ov_bdict[b])*100"
   ]
  },
  {
   "cell_type": "code",
   "execution_count": 12,
   "metadata": {},
   "outputs": [
    {
     "name": "stdout",
     "output_type": "stream",
     "text": [
      "{'mb-fit-error': XError(2.54+-15.39, dim=0), 'mb-null-fits': 11.931085149082566, 'g-fit-error': XError(2.26+-11.86, dim=0), 'g-null-fits': 18.42567373853211, 'r-fit-error': XError(2.78+-17.88, dim=0), 'r-null-fits': 5.436496559633031}\n"
     ]
    }
   ],
   "source": [
    "for method in methods:\n",
    "    print(results_dict[method])"
   ]
  },
  {
   "cell_type": "code",
   "execution_count": 13,
   "metadata": {},
   "outputs": [
    {
     "name": "stdout",
     "output_type": "stream",
     "text": [
      "curve_fit\n",
      "mb-rank:\n",
      "(1) - ZTF18acvvppd: 305.3215026855469\n",
      "(2) - ZTF18aboebre: 244.23275756835938\n",
      "(3) - ZTF19aajxwnz: 71.73245239257812\n",
      "(4) - ZTF19aacgslb: 52.663902282714844\n",
      "(5) - ZTF18achaqmd: 43.40021514892578\n",
      "(6) - ZTF19aamsetj: 35.71979522705078\n",
      "(7) - ZTF18abtfgqr: 31.628253936767578\n",
      "(8) - ZTF19aampllw: 22.369037628173828\n",
      "(9) - ZTF18abltdkd: 20.69577980041504\n",
      "(10) - ZTF18acrnfww: 19.955039978027344\n",
      "g-rank:\n",
      "(1) - ZTF18acvvppd: 233.5023651123047\n",
      "(2) - ZTF18aboebre: 148.15115356445312\n",
      "(3) - ZTF19aajxwnz: 71.73245239257812\n",
      "(4) - ZTF19aamsetj: 51.98676681518555\n",
      "(5) - ZTF18achaqmd: 43.40021514892578\n",
      "(6) - ZTF18acrnfww: 38.3190803527832\n",
      "(7) - ZTF18acslpba: 28.983369827270508\n",
      "(8) - ZTF19aatlmbo: 28.553916931152344\n",
      "(9) - ZTF19aacgslb: 22.98574447631836\n",
      "(10) - ZTF19abdzehg: 22.46877670288086\n",
      "r-rank:\n",
      "(1) - ZTF18acvvppd: 377.1406555175781\n",
      "(2) - ZTF18aboebre: 340.3143615722656\n",
      "(3) - ZTF19aacgslb: 82.34205627441406\n",
      "(4) - ZTF19aampllw: 36.19752502441406\n",
      "(5) - ZTF18abtfgqr: 31.628253936767578\n",
      "(6) - ZTF19abecaca: 23.436847686767578\n",
      "(7) - ZTF19acbunmk: 20.378925323486328\n",
      "(8) - ZTF19aapafit: 20.367942810058594\n",
      "(9) - ZTF19aamsetj: 19.45282554626465\n",
      "(10) - ZTF18abzrgim: 18.279579162597656\n"
     ]
    }
   ],
   "source": [
    "for method in methods:\n",
    "    print(method)\n",
    "    rank[method].calcule_rank()\n",
    "    print(rank[method])\n",
    "    for b in band_names:\n",
    "        rank_bdict[method][b].calcule_rank()\n",
    "        print(rank_bdict[method][b])"
   ]
  }
 ],
 "metadata": {
  "kernelspec": {
   "display_name": "Python 3",
   "language": "python",
   "name": "python3"
  },
  "language_info": {
   "codemirror_mode": {
    "name": "ipython",
    "version": 3
   },
   "file_extension": ".py",
   "mimetype": "text/x-python",
   "name": "python",
   "nbconvert_exporter": "python",
   "pygments_lexer": "ipython3",
   "version": "3.7.9"
  }
 },
 "nbformat": 4,
 "nbformat_minor": 4
}
