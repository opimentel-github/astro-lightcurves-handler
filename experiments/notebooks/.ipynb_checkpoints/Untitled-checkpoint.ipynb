{
 "cells": [
  {
   "cell_type": "code",
   "execution_count": 4,
   "metadata": {},
   "outputs": [],
   "source": [
    "import sys\n",
    "sys.path.append('../../')\n",
    "sys.path.append('../../../flaming-choripan')"
   ]
  },
  {
   "cell_type": "code",
   "execution_count": 19,
   "metadata": {},
   "outputs": [
    {
     "name": "stdout",
     "output_type": "stream",
     "text": [
      "The autoreload extension is already loaded. To reload it, use:\n",
      "  %reload_ext autoreload\n",
      "ZTF19acfwynw {0.9467509, 0.9735662}\n",
      "ZTF18acyxnyw {1.7729723, 2.558415}\n",
      "ZTF19aaqrime {1.6982775, 1.8697546}\n",
      "ZTF18acnnevs {1.12477, 1.5604782}\n"
     ]
    }
   ],
   "source": [
    "%load_ext autoreload\n",
    "%autoreload 2\n",
    "from flamingchoripan.files import load_pickle, get_filedirs\n",
    "from flamingchoripan.datascience.statistics import XError\n",
    "import numpy as np\n",
    "\n",
    "rootdir = '/home/opimentel/tesis/astro-lightcurves-handler/save/alerceZTFv5.1'\n",
    "method = 'curve_fit'\n",
    "load_rootdir = f'{rootdir}/{method}'\n",
    "filedirs = get_filedirs(load_rootdir, fext='ferror')\n",
    "for filedir in filedirs:\n",
    "    d = load_pickle(filedir, verbose=0)\n",
    "    lcobj_name = d['lcobj_name']\n",
    "    band_names = d['band_names']\n",
    "    d = {b:XError([x for x in d['error_bdict'][b] if x>0], 0) for b in band_names}\n",
    "    print(lcobj_name, {d[b].mean for b in band_names})"
   ]
  }
 ],
 "metadata": {
  "kernelspec": {
   "display_name": "Python 3",
   "language": "python",
   "name": "python3"
  },
  "language_info": {
   "codemirror_mode": {
    "name": "ipython",
    "version": 3
   },
   "file_extension": ".py",
   "mimetype": "text/x-python",
   "name": "python",
   "nbconvert_exporter": "python",
   "pygments_lexer": "ipython3",
   "version": "3.7.9"
  }
 },
 "nbformat": 4,
 "nbformat_minor": 4
}
