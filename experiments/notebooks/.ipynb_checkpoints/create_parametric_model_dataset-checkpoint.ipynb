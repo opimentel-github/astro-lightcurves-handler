{
 "cells": [
  {
   "cell_type": "code",
   "execution_count": null,
   "metadata": {},
   "outputs": [],
   "source": [
    "import sys\n",
    "sys.path.append('../../') # or just install the module\n",
    "sys.path.append('../../../flaming-choripan') # or just install the module"
   ]
  },
  {
   "cell_type": "code",
   "execution_count": null,
   "metadata": {},
   "outputs": [],
   "source": [
    "from flamingchoripan.files import search_for_filedirs\n",
    "from lchandler import C_\n",
    "\n",
    "root_folder = '/home/opimentel/tesis/astro-lightcurves-handler/save'\n",
    "filedirs = search_for_filedirs(root_folder, fext=C_.EXT_SPLIT_LIGHTCURVE)"
   ]
  },
  {
   "cell_type": "code",
   "execution_count": null,
   "metadata": {},
   "outputs": [],
   "source": [
    "%load_ext autoreload\n",
    "%autoreload 2\n",
    "import numpy as np\n",
    "from flamingchoripan.files import load_pickle, save_pickle\n",
    "from flamingchoripan.files import get_dict_from_filedir\n",
    "from lchandler import C_\n",
    "\n",
    "def load_lcdataset(filename):\n",
    "    assert filename.split('.')[-1]==C_.EXT_SPLIT_LIGHTCURVE\n",
    "    return load_pickle(filename)\n",
    "\n",
    "filedir = '/home/opimentel/tesis/astro-lightcurves-handler/save/alerceZTFv5.1/survey-alerceZTFv5.1_bands-gr_mode-onlySNe_kfid-0.slcd'\n",
    "filedir = '/home/opimentel/tesis/astro-lightcurves-handler/save/alerceZTFv7.1/survey-alerceZTFv7.1_bands-gr_mode-onlySNe_kfid-0.slcd'\n",
    "\n",
    "filedic = get_dict_from_filedir(filedir)\n",
    "root_folder = filedic['*rootdir*']\n",
    "cfilename = filedic['*cfilename*']\n",
    "lcdataset = load_lcdataset(filedir)\n",
    "print(lcdataset['raw'].keys())\n",
    "print(lcdataset['raw'].get_random_lcobj(False).keys())\n",
    "print(lcdataset)"
   ]
  },
  {
   "cell_type": "markdown",
   "metadata": {},
   "source": [
    "# get error distribution fit"
   ]
  },
  {
   "cell_type": "code",
   "execution_count": null,
   "metadata": {
    "scrolled": false
   },
   "outputs": [],
   "source": [
    "%load_ext autoreload\n",
    "%autoreload 2\n",
    "from lchandler.synthetic.distr_fitting import ObsErrorConditionalSampler\n",
    "from lchandler.plots.plots import plot_obse_samplers\n",
    "\n",
    "set_name = 'train'\n",
    "band_names = lcdataset[set_name].band_names\n",
    "obse_sampler_bdict = {b:ObsErrorConditionalSampler(lcdataset, set_name, b) for b in band_names}\n",
    "plot_obse_samplers(lcdataset, set_name, obse_sampler_bdict, original_space=1)\n",
    "plot_obse_samplers(lcdataset, set_name, obse_sampler_bdict, original_space=1, add_samples=1)\n",
    "plot_obse_samplers(lcdataset, set_name, obse_sampler_bdict, original_space=0)"
   ]
  },
  {
   "cell_type": "code",
   "execution_count": null,
   "metadata": {},
   "outputs": [],
   "source": [
    "%load_ext autoreload\n",
    "%autoreload 2\n",
    "from lchandler.synthetic.distr_fitting import CurveLengthSampler\n",
    "from lchandler.plots.plots import plot_length_samplers\n",
    "\n",
    "set_name = 'train'\n",
    "band_names = lcdataset[set_name].band_names\n",
    "offset = 5\n",
    "length_sampler_bdict = {b:CurveLengthSampler(lcdataset, set_name, b, offset) for b in band_names}\n",
    "plot_length_samplers(length_sampler_bdict, lcdataset, set_name)"
   ]
  },
  {
   "cell_type": "code",
   "execution_count": null,
   "metadata": {
    "scrolled": false
   },
   "outputs": [],
   "source": [
    "%load_ext autoreload\n",
    "%autoreload 2\n",
    "from lchandler.synthetic.synthetic_dataset_generators import GEN_CDICT\n",
    "from lchandler.plots.lc import plot_synthetic_samples\n",
    "\n",
    "method = 'curve_fit'\n",
    "method = 'mcmc'\n",
    "set_name = 'train'\n",
    "new_bounds = 1\n",
    "save_rootdir = '/home/opimentel/tesis/astro-lightcurves-handler/save'\n",
    "save_rootdir = None\n",
    "synthetic_samples_per_curve = 32\n",
    "\n",
    "lcset = lcdataset[set_name]\n",
    "ignored_names = [\n",
    "    'ZTF20aacbwbm',\n",
    "]\n",
    "risky_names = [\n",
    "    'ZTF19aaserwb',\n",
    "    'ZTF18abcrzfz',\n",
    "    'ZTF18aayjyub',\n",
    "    'ZTF18adaslwa',\n",
    "    'ZTF18adbyxua',\n",
    "    'ZTF19aahsnmq',\n",
    "]\n",
    "for lcobj_name in ignored_names+risky_names:\n",
    "    #lcobj_name = lc_set.get_random_lcobj_name() # random\n",
    "    lcobj = lcset[lcobj_name]\n",
    "    band_names = lcset.band_names\n",
    "    class_names = lcset.class_names\n",
    "    sne_generator = GEN_CDICT[method](lcobj, class_names, band_names, obse_sampler_bdict, length_sampler_bdict, new_bounds=new_bounds)\n",
    "    new_lcobjs, new_lcobjs_pm, fit_errors_bdict = sne_generator.sample_curves(synthetic_samples_per_curve)\n",
    "    plot_kwargs = {\n",
    "        'fit_errors_bdict':fit_errors_bdict,\n",
    "        'save_rootdir':save_rootdir,\n",
    "    }\n",
    "    plot_synthetic_samples(lcdataset, set_name, method, lcobj_name, new_lcobjs, new_lcobjs_pm, **plot_kwargs)"
   ]
  },
  {
   "cell_type": "code",
   "execution_count": null,
   "metadata": {
    "scrolled": false
   },
   "outputs": [],
   "source": [
    "%load_ext autoreload\n",
    "%autoreload 2\n",
    "from lchandler.plots.plots import plot_mcmc_trace\n",
    "\n",
    "plot_mcmc_trace(sne_generator.mcmc_trace_bdict, 'g')"
   ]
  },
  {
   "cell_type": "markdown",
   "metadata": {},
   "source": [
    "# generate synth data"
   ]
  },
  {
   "cell_type": "code",
   "execution_count": null,
   "metadata": {
    "scrolled": true
   },
   "outputs": [],
   "source": [
    "%load_ext autoreload\n",
    "%autoreload 2\n",
    "from lchandler.synthetic.synthetic_dataset_generators import generate_synthetic_dataset\n",
    "\n",
    "sd_kwargs = {\n",
    "    'synthetic_samples_per_curve':128,\n",
    "    #'method':'curve_fit',\n",
    "    'method':'mcmc',\n",
    "    'ignored_lcobj_names':[\n",
    "        'ZTF18aajkivu',\n",
    "    ],\n",
    "    'save_rootdir':'/home/opimentel/tesis/astro-lightcurves-handler/save',\n",
    "}\n",
    "errors = generate_synthetic_dataset(lcdataset, 'train', obse_sampler_bdict, length_sampler_bdict, **sd_kwargs)\n",
    "print(lcdataset)"
   ]
  },
  {
   "cell_type": "code",
   "execution_count": null,
   "metadata": {},
   "outputs": [],
   "source": [
    "%load_ext autoreload\n",
    "%autoreload 2\n",
    "from lchandler.plots.plots import plot_obs_obse_scatter\n",
    "\n",
    "plot_obs_obse_scatter(lcdataset, 'train', 'synth_train')"
   ]
  },
  {
   "cell_type": "code",
   "execution_count": null,
   "metadata": {},
   "outputs": [],
   "source": [
    "%load_ext autoreload\n",
    "%autoreload 2\n",
    "import matplotlib.pyplot as plt\n",
    "import flamingchoripan.cutePlots.colors as cc\n",
    "import flamingchoripan.cutePlots.plots as cplots\n",
    "\n",
    "figsize = (12,5)\n",
    "fig, ax = plt.subplots(1, 1, figsize=figsize)\n",
    "for ks,set_name in enumerate(['synth_train']):\n",
    "    lcset = lcdataset.get(set_name)\n",
    "    lcobj_classes = lcset.get_lcobj_classes()\n",
    "    to_plot = {'class samples':lcobj_classes}\n",
    "    title = 'class population distribution\\n'\n",
    "    title += f'survey: {lcset.survey} - set: {set_name} - class samples: {len(lcobj_classes):,}'\n",
    "    plt_kwargs = {\n",
    "        'fig':fig,\n",
    "        'ax':ax,\n",
    "        'ylabel':'' if ks>0 else None,\n",
    "        'legend_ncol':len(lcset.band_names),\n",
    "        'title':title,\n",
    "        'cmap':cc.colorlist_to_cmap([cc.NICE_COLORS_DICT['nice_gray']]),\n",
    "        'uses_log_scale':0,\n",
    "    }\n",
    "    fig, ax = cplots.plot_hist_labels(to_plot, lcset.class_names, **plt_kwargs)\n",
    "    \n",
    "fig.tight_layout()\n",
    "plt.plot()"
   ]
  },
  {
   "cell_type": "code",
   "execution_count": null,
   "metadata": {
    "scrolled": false
   },
   "outputs": [],
   "source": [
    "%load_ext autoreload\n",
    "%autoreload 2\n",
    "from src.plots import plot_synthetic_samples\n",
    "\n",
    "plot_synthetic_samples(lcdataset, 'train', max_samples=1)"
   ]
  },
  {
   "cell_type": "code",
   "execution_count": null,
   "metadata": {
    "scrolled": false
   },
   "outputs": [],
   "source": [
    "%load_ext autoreload\n",
    "%autoreload 2\n",
    "from src.umaps import get_fitted_umap, get_transformed_umap\n",
    "\n",
    "set_name_train = 'train'\n",
    "set_name_test = 'synth_train'\n",
    "30\n",
    "pm_umap_results = get_fitted_umap(lcdataset, set_name_test)\n",
    "res = get_transformed_umap(lcdataset, pm_umap_results, set_name_train, set_name_test)\n",
    "pm_args_embd_results_train, pm_args_embd_results_test = res"
   ]
  },
  {
   "cell_type": "code",
   "execution_count": null,
   "metadata": {
    "scrolled": false
   },
   "outputs": [],
   "source": [
    "%load_ext autoreload\n",
    "%autoreload 2\n",
    "from src.plots import plot_2Dprojections\n",
    "\n",
    "for c in [None]+lcdataset.raw.class_names:\n",
    "    kwargs = {\n",
    "        'target_class':c,\n",
    "        #'x_mode':'x_pca',\n",
    "        'x_mode':'x_umap',\n",
    "        'x_mode':'x_tsne',\n",
    "    }\n",
    "    plot_2Dprojections(lcdataset, set_name_train, pm_args_embd_results_train, set_name_test, pm_args_embd_results_test, **kwargs)"
   ]
  },
  {
   "cell_type": "code",
   "execution_count": null,
   "metadata": {},
   "outputs": [],
   "source": [
    "from flamingchoripan.myUtils.files import load_pickle, save_pickle\n",
    "from src import C_\n",
    "\n",
    "assert 0\n",
    "save_filedir = f'{root_folder}/{cfilename}.{C_.EXT_PARAMETRIC_LIGHTCURVE}'\n",
    "save_pickle(save_filedir, lcdataset)"
   ]
  }
 ],
 "metadata": {
  "kernelspec": {
   "display_name": "Python 3",
   "language": "python",
   "name": "python3"
  },
  "language_info": {
   "codemirror_mode": {
    "name": "ipython",
    "version": 3
   },
   "file_extension": ".py",
   "mimetype": "text/x-python",
   "name": "python",
   "nbconvert_exporter": "python",
   "pygments_lexer": "ipython3",
   "version": "3.7.9"
  }
 },
 "nbformat": 4,
 "nbformat_minor": 4
}
