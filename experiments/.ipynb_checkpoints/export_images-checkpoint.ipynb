{
 "cells": [
  {
   "cell_type": "code",
   "execution_count": 1,
   "metadata": {},
   "outputs": [],
   "source": [
    "import sys\n",
    "sys.path.append('../') # or just install the module\n",
    "sys.path.append('../../flaming-choripan') # or just install the module"
   ]
  },
  {
   "cell_type": "code",
   "execution_count": 3,
   "metadata": {},
   "outputs": [
    {
     "data": {
      "text/plain": [
       "['../../surveys-save/survey=alerceZTFv7.1~bands=gr~mode=onlySNe~method=spm-mcmc-fstw.splcds',\n",
       " '../../surveys-save/survey=alerceZTFv7.1~bands=gr~mode=onlySNe.splcds',\n",
       " '../../surveys-save/survey=alerceZTFv7.1~bands=gr~mode=onlySNe~method=bspline-fstw.splcds',\n",
       " '../../surveys-save/survey=alerceZTFv7.1~bands=gr~mode=onlySNe~method=spm-mle-estw.splcds',\n",
       " '../../surveys-save/survey=alerceZTFv7.1~bands=gr~mode=onlySNe~method=spm-mle-fstw.splcds',\n",
       " '../../surveys-save/survey=alerceZTFv7.1~bands=gr~mode=onlySNe.ralcds',\n",
       " '../../surveys-save/survey=alerceZTFv7.1~bands=gr~mode=onlySNe~method=spm-mcmc-estw.splcds',\n",
       " '../../surveys-save/survey=alerceZTFv7.1~bands=gr~mode=onlySNe~method=linear-fstw.splcds']"
      ]
     },
     "execution_count": 3,
     "metadata": {},
     "output_type": "execute_result"
    }
   ],
   "source": [
    "from flamingchoripan.files import search_for_filedirs\n",
    "from lchandler import C_\n",
    "\n",
    "root_folder = '../../surveys-save'\n",
    "filedirs = search_for_filedirs(root_folder)\n",
    "filedirs"
   ]
  },
  {
   "cell_type": "code",
   "execution_count": null,
   "metadata": {},
   "outputs": [],
   "source": [
    "%load_ext autoreload\n",
    "%autoreload 2\n",
    "import numpy as np\n",
    "from flamingchoripan.files import load_pickle, save_pickle, get_dict_from_filedir\n",
    "\n",
    "filedir = '../../surveys-save/survey=alerceZTFv7.1~bands=gr~mode=onlySNe~method=spm-mcmc-estw.splcds'\n",
    "#filedir = '../../surveys-save/survey=alerceZTFv7.1~bands=gr~mode=onlySNe.ralcds'\n",
    "filedict = get_dict_from_filedir(filedir)\n",
    "root_folder = filedict['_rootdir']\n",
    "cfilename = filedict['_cfilename']\n",
    "survey = filedict['survey']\n",
    "lcdataset = load_pickle(filedir)\n",
    "print(lcdataset)"
   ]
  },
  {
   "cell_type": "code",
   "execution_count": 4,
   "metadata": {
    "scrolled": false
   },
   "outputs": [],
   "source": [
    "import flamingchoripan.lists as lists\n",
    "from flamingchoripan.cuteplots.utils import save_fig\n",
    "import matplotlib.pyplot as plt\n",
    "from lchandler.plots.lc import plot_lightcurve\n",
    "from flamingchoripan.files import save_time_stamp\n",
    "\n",
    "figsize = (12,5)\n",
    "lcset_names = lcdataset.get_lcset_names()\n",
    "for lcset_name in lcset_names:\n",
    "    lcset = lcdataset[lcset_name]\n",
    "    for lcobj_name in lcset.get_lcobj_names():\n",
    "        fig, ax = plt.subplots(1,1, figsize=figsize)\n",
    "        lcobj = lcset[lcobj_name]\n",
    "        c = lcset.class_names[lcobj.y]\n",
    "        for kb,b in enumerate(lcset.band_names):\n",
    "            plot_lightcurve(ax, lcobj, b, label=f'{b} obs')\n",
    "        title = f'survey={lcset.survey}-{\"\".join(lcset.band_names)} - obj={lcobj_name} [{lcset.class_names[lcobj.y]}]'\n",
    "        ax.set_title(title)\n",
    "        ax.set_xlabel('time [days]')\n",
    "        ax.set_ylabel('observations [flux]')\n",
    "        ax.grid(alpha=0.5)\n",
    "        ax.legend()\n",
    "        save_filedir = f'../save/{cfilename}/{lcset_name}/{c}/{lcobj_name}.png'\n",
    "        save_fig(save_filedir, fig)\n",
    "        save_time_stamp(f'../save/{cfilename}')\n",
    "        #break"
   ]
  }
 ],
 "metadata": {
  "kernelspec": {
   "display_name": "Python 3",
   "language": "python",
   "name": "python3"
  },
  "language_info": {
   "codemirror_mode": {
    "name": "ipython",
    "version": 3
   },
   "file_extension": ".py",
   "mimetype": "text/x-python",
   "name": "python",
   "nbconvert_exporter": "python",
   "pygments_lexer": "ipython3",
   "version": "3.7.9"
  }
 },
 "nbformat": 4,
 "nbformat_minor": 4
}
