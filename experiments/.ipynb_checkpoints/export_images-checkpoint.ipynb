{
 "cells": [
  {
   "cell_type": "code",
   "execution_count": 10,
   "metadata": {},
   "outputs": [],
   "source": [
    "import sys\n",
    "sys.path.append('../') # or just install the module\n",
    "sys.path.append('../../flaming-choripan') # or just install the module"
   ]
  },
  {
   "cell_type": "code",
   "execution_count": 11,
   "metadata": {},
   "outputs": [
    {
     "name": "stdout",
     "output_type": "stream",
     "text": [
      "────────────────────────────────────────────────────────────────────────────────────────────────────\n",
      "found filedirs: (../../surveys-save)\n",
      "(0) - ../../surveys-save/alerceZTFv7.1/survey-alerceZTFv7.1_bands-gr_mode-onlySNe.ralcds - 2.365[mbs]\n",
      "────────────────────────────────────────────────────────────────────────────────────────────────────\n",
      "filedirs after searching with filters: (../../surveys-save)\n",
      "(0) - ../../surveys-save/alerceZTFv7.1/survey-alerceZTFv7.1_bands-gr_mode-onlySNe.ralcds - 2.365[mbs]\n",
      "────────────────────────────────────────────────────────────────────────────────────────────────────\n"
     ]
    }
   ],
   "source": [
    "from flamingchoripan.files import search_for_filedirs\n",
    "from lchandler import C_\n",
    "\n",
    "root_folder = '../../surveys-save'\n",
    "filedirs = search_for_filedirs(root_folder, fext=C_.EXT_RAW_LIGHTCURVE)"
   ]
  },
  {
   "cell_type": "code",
   "execution_count": 12,
   "metadata": {},
   "outputs": [
    {
     "name": "stdout",
     "output_type": "stream",
     "text": [
      "The autoreload extension is already loaded. To reload it, use:\n",
      "  %reload_ext autoreload\n",
      "\u001b[34m> loading: ../../surveys-save/alerceZTFv7.1/survey-alerceZTFv7.1_bands-gr_mode-onlySNe.ralcds\u001b[0m\n",
      "dict_keys(['data', 'survey', 'description', 'band_names', 'class_names', 'obs_is_flux'])\n",
      "dict_keys(['days', 'obs', 'obse', 'y', 'synthetic'])\n",
      "LCDataset:\n",
      "[outliers - samples 17]\n",
      "(*) obs_samples: 774 - min_len: 11 - max_dur: 408.0[days] - dur(p50): 130.9[days] - cadence(p50): 1.0[days]\n",
      "(g) obs_samples: 365 - min_len: 0 - max_dur: 408.0[days] - dur(p50): 133.8[days] - cadence(p50): 3.0[days]\n",
      "(r) obs_samples: 409 - min_len: 6 - max_dur: 387.9[days] - dur(p50): 126.7[days] - cadence(p50): 3.0[days]\n",
      "   |▉       | SLSN - 2/17 (11.76%)\n",
      "   |▍       | SNIa - 1/17 (5.88%)\n",
      "   |█▉      | SNIbc - 4/17 (23.53%)\n",
      "   |████▋   | allSNII - 10/17 (58.82%)\n",
      "────────────────────────────────────────────────────────────────────────────────────────────────────\n",
      "[raw - samples 1,981]\n",
      "(*) obs_samples: 54,200 - min_len: 6 - max_dur: 538.8[days] - dur(p50): 52.9[days] - cadence(p50): 1.0[days]\n",
      "(g) obs_samples: 23,911 - min_len: 0 - max_dur: 538.7[days] - dur(p50): 39.0[days] - cadence(p50): 3.0[days]\n",
      "(r) obs_samples: 30,289 - min_len: 0 - max_dur: 538.7[days] - dur(p50): 50.8[days] - cadence(p50): 3.0[days]\n",
      "   |        | SLSN - 29/1,981 (1.46%)\n",
      "   |██████  | SNIa - 1,500/1,981 (75.72%)\n",
      "   |▍       | SNIbc - 96/1,981 (4.85%)\n",
      "   |█▍      | allSNII - 356/1,981 (17.97%)\n",
      "────────────────────────────────────────────────────────────────────────────────────────────────────\n",
      "\n"
     ]
    }
   ],
   "source": [
    "%load_ext autoreload\n",
    "%autoreload 2\n",
    "import numpy as np\n",
    "from flamingchoripan.progress_bars import ProgressBar\n",
    "from flamingchoripan.files import load_pickle, save_pickle\n",
    "from flamingchoripan.files import get_dict_from_filedir\n",
    "from lchandler import C_\n",
    "\n",
    "def load_lcdataset(filedir):\n",
    "    assert filedir.split('.')[-1]==C_.EXT_RAW_LIGHTCURVE\n",
    "    return load_pickle(filedir)\n",
    "\n",
    "filedir = '../../surveys-save/alerceZTFv7.1/survey-alerceZTFv7.1_bands-gr_mode-onlySNe.ralcds'\n",
    "\n",
    "filedict = get_dict_from_filedir(filedir)\n",
    "root_folder = filedict['*rootdir*']\n",
    "cfilename = filedict['*cfilename*']\n",
    "survey = filedict['survey']\n",
    "lcdataset = load_lcdataset(filedir)\n",
    "print(lcdataset['raw'].keys())\n",
    "print(lcdataset['raw'].get_random_lcobj(False).keys())\n",
    "print(lcdataset)"
   ]
  },
  {
   "cell_type": "code",
   "execution_count": null,
   "metadata": {
    "scrolled": false
   },
   "outputs": [],
   "source": [
    "import flamingchoripan.lists as lists\n",
    "from flamingchoripan.cuteplots.utils import save_fig\n",
    "import matplotlib.pyplot as plt\n",
    "from lchandler.plots.lc import plot_lightcurve\n",
    "\n",
    "lcset_names = lcdataset.get_lcset_names()\n",
    "for lcset_name in lcset_names:\n",
    "    lcset = lcdataset[lcset_name]\n",
    "    for lcobj_name in lcset.get_lcobj_names():\n",
    "        fig, ax = plt.subplots(1,1, figsize=(12,5))\n",
    "        lcobj = lcset[lcobj_name]\n",
    "        c = lcset.class_names[lcobj.y]\n",
    "        for kb,b in enumerate(lcset.band_names):\n",
    "            plot_lightcurve(ax, lcobj, b)\n",
    "        snr = lcobj.get_snr()\n",
    "        ax.set_title(f'survey: {lcset.survey} - obj: {lcobj_name} - class: {lcset.class_names[lcobj.y]} - snr: {snr:.2f}')\n",
    "        ax.set_xlabel('days')\n",
    "        ax.set_ylabel('obs[flux]')\n",
    "        ax.grid(alpha=0.5)\n",
    "        save_filedir = f'../save/{survey}/{cfilename}/{lcset_name}/{c}/{lcobj_name}.png'\n",
    "        save_fig(fig, save_filedir)"
   ]
  }
 ],
 "metadata": {
  "kernelspec": {
   "display_name": "Python 3",
   "language": "python",
   "name": "python3"
  },
  "language_info": {
   "codemirror_mode": {
    "name": "ipython",
    "version": 3
   },
   "file_extension": ".py",
   "mimetype": "text/x-python",
   "name": "python",
   "nbconvert_exporter": "python",
   "pygments_lexer": "ipython3",
   "version": "3.7.9"
  }
 },
 "nbformat": 4,
 "nbformat_minor": 4
}
